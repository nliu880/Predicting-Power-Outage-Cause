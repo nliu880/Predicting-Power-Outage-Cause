{
 "cells": [
  {
   "cell_type": "markdown",
   "metadata": {},
   "source": [
    "# Project 5: Predicting Power Outage Causes\n",
    "\n",
    "**Name(s)**: Nicole Liu\n",
    "\n",
    "**Website Link**: https://nliu880.github.io/Predicting-Power-Outage-Cause/"
   ]
  },
  {
   "cell_type": "markdown",
   "metadata": {},
   "source": [
    "## Code"
   ]
  },
  {
   "cell_type": "code",
   "execution_count": 31,
   "metadata": {
    "ExecuteTime": {
     "end_time": "2019-10-31T23:36:28.652554Z",
     "start_time": "2019-10-31T23:36:27.180520Z"
    }
   },
   "outputs": [],
   "source": [
    "# imports <3\n",
    "\n",
    "import pandas as pd\n",
    "import numpy as np\n",
    "import os\n",
    "\n",
    "from sklearn.model_selection import train_test_split\n",
    "from sklearn.model_selection import GridSearchCV\n",
    "from sklearn.pipeline import Pipeline\n",
    "from sklearn.compose import ColumnTransformer\n",
    "from sklearn.preprocessing import FunctionTransformer, OneHotEncoder, LabelEncoder, QuantileTransformer\n",
    "from sklearn.tree import DecisionTreeClassifier\n",
    "from sklearn.metrics import f1_score\n",
    "\n",
    "import matplotlib.pyplot as plt\n",
    "import plotly.express as px\n",
    "pd.options.plotting.backend = 'plotly'"
   ]
  },
  {
   "cell_type": "markdown",
   "metadata": {},
   "source": [
    "### Framing the Problem"
   ]
  },
  {
   "cell_type": "markdown",
   "metadata": {
    "ExecuteTime": {
     "end_time": "2019-10-31T23:36:28.657068Z",
     "start_time": "2019-10-31T23:36:28.654650Z"
    }
   },
   "source": [
    "This project will focus on the same dataset used in Project 3, and will aim to use prediction models to solve some form of prediction problem. The problem I have chosen to focus on in this report is predicting the cause of a power outage based on other features.\n",
    "\n",
    "I will use a multiclass classification model to try and solve this prediction problem. The response variable will be `cause category`; this variable describes the general cause (ex. severe weather or intentional attack) of some power outage, which is what I am trying to predict. My evaluation metric will be the F-1 score. I want to balance both precision and recall. Accuracy in this case could also be used, but from my previous EDA in Project 3, I discovered there were large outliers that skewed the data. We want to avoid this in our metric, so we will use the F-1 score. \n",
    "\n",
    "We will begin this by performing the same data cleaning steps as from Project 3. The code used to clean the data below is from there and condensed into one cell. I have made a few edits that involves adding the time unit to the `outage duration` columns. One is in minutes (the original) and ones is in hours (which I added in for clarity and intuition). I have also dropped the `cause category detail`, `hurricane name`, and `postal code` columns. In addition, we also fill in the missing values for certain columns by imputing either the mean or the mode of the group when grouped by `cause category`."
   ]
  },
  {
   "cell_type": "code",
   "execution_count": 25,
   "metadata": {},
   "outputs": [],
   "source": [
    "# Reading in the dataframe. The original file came in as an Excel sheet, and thus had to be modified for use, hence\n",
    "# the \"header = 5\" portion. \n",
    "\n",
    "full_df = pd.read_csv('outage.csv', header = 5) \n",
    "columns = full_df.columns.values[4:20] \n",
    "columns = np.append(columns, 'POPULATION')\n",
    "\n",
    "df = pd.read_csv('outage.csv', header = 5, usecols = columns) # re-reading the dataframe\n",
    "df.drop([0], inplace = True) # dropping the row that contained units for certain columns\n",
    "\n",
    "# more intense cleaning of data in set\n",
    "\n",
    "# renaming all the columns, so i don't have to keep typing in all caps\n",
    "\n",
    "new_cols = {i: i.lower().replace('.', ' ') for i in df.columns.values}\n",
    "\n",
    "df.rename(columns = {'U.S._STATE': 'us state'}, inplace = True)\n",
    "df.rename(columns = new_cols, inplace = True)\n",
    "\n",
    "# we should typecast all numerical information to either an int or float format; object type is not useful\n",
    "\n",
    "df['anomaly level'] = df['anomaly level'].astype(float)\n",
    "df['outage duration'] = df['outage duration'].astype(float)\n",
    "df['demand loss mw'] = df['demand loss mw'].astype(float)\n",
    "df['customers affected'] = df['customers affected'].astype(float)\n",
    "df['population'] = df['population'].astype(float)\n",
    "\n",
    "\n",
    "# coverting the outage start and end time into the appropriate datetime objects\n",
    "\n",
    "df['outage start date'] = pd.to_datetime(df['outage start date']).dt.date\n",
    "df['outage start time'] = pd.to_datetime(df['outage start time']).dt.time\n",
    "df['outage restoration date'] = pd.to_datetime(df['outage restoration date']).dt.date\n",
    "df['outage restoration time'] = pd.to_datetime(df['outage restoration time']).dt.time\n",
    "\n",
    "df = df.reset_index()\n",
    "\n",
    "# helper functions to convert the outage start info into one column and the restoration info into one column\n",
    "\n",
    "def datetime_start(x):\n",
    "    date = str(df.loc[x - 1, 'outage start date'])\n",
    "    time = str(df.loc[x - 1, 'outage start time'])\n",
    "    \n",
    "    if (date != 'NaT') & (time != 'NaT'):\n",
    "        return pd.to_datetime(date + ' ' + time)\n",
    "    else:\n",
    "        return np.NaN\n",
    "    \n",
    "def datetime_end(x):\n",
    "    date = str(df.loc[x - 1, 'outage restoration date'])\n",
    "    time = str(df.loc[x - 1, 'outage restoration time'])\n",
    "    \n",
    "    if (date != 'NaT') & (time != 'NaT'):\n",
    "        return pd.to_datetime(date + ' ' + time)\n",
    "    else:\n",
    "        return np.NaN\n",
    "    \n",
    "# adding new columns for the combined date and time for outage start and restoration, as well as total outage time\n",
    "\n",
    "df['start time'] = df['index'].apply(datetime_start)\n",
    "df['restoration time'] = df['index'].apply(datetime_end)\n",
    "df['total time'] = df['restoration time'] - df['start time']\n",
    "\n",
    "# converting the 'outage duration' column that was given from minutes to hours\n",
    "df['outage duration (hrs)'] = np.round(df['outage duration'] / 60, 2)\n",
    "df.rename(columns = {'outage duration': 'outage duration (min)'}, inplace = True)\n",
    "\n",
    "# dropping columns that we no longer need\n",
    "\n",
    "df.drop(['index', 'outage start date', 'outage start time', 'outage restoration date', 'outage restoration time'], \n",
    "        axis = 1, inplace = True)\n",
    "\n",
    "df.drop(['cause category detail', 'hurricane names', 'postal code'], axis = 1, inplace = True)\n"
   ]
  },
  {
   "cell_type": "code",
   "execution_count": 26,
   "metadata": {},
   "outputs": [
    {
     "name": "stdout",
     "output_type": "stream",
     "text": [
      "(1534, 14)\n"
     ]
    },
    {
     "data": {
      "text/plain": [
       "us state                   0\n",
       "nerc region                0\n",
       "climate region             6\n",
       "anomaly level              9\n",
       "climate category           9\n",
       "cause category             0\n",
       "outage duration (min)     58\n",
       "demand loss mw           705\n",
       "customers affected       443\n",
       "population                 0\n",
       "start time                 9\n",
       "restoration time          58\n",
       "total time                58\n",
       "outage duration (hrs)     58\n",
       "dtype: int64"
      ]
     },
     "execution_count": 26,
     "metadata": {},
     "output_type": "execute_result"
    }
   ],
   "source": [
    "print(df.shape)\n",
    "df.isna().sum()\n",
    "\n",
    "# we check to see how many missing values there are in each column, as well as the number of observations total"
   ]
  },
  {
   "cell_type": "code",
   "execution_count": 27,
   "metadata": {
    "scrolled": true
   },
   "outputs": [
    {
     "data": {
      "text/plain": [
       "us state                   0\n",
       "nerc region                0\n",
       "climate region             0\n",
       "anomaly level              0\n",
       "climate category           0\n",
       "cause category             0\n",
       "outage duration (min)      0\n",
       "demand loss mw           705\n",
       "customers affected       443\n",
       "population                 0\n",
       "start time                 9\n",
       "restoration time          58\n",
       "total time                58\n",
       "outage duration (hrs)      0\n",
       "dtype: int64"
      ]
     },
     "execution_count": 27,
     "metadata": {},
     "output_type": "execute_result"
    }
   ],
   "source": [
    "# we will fill in those missing values for outage duration (min) and anomaly level by taking the mean value as \n",
    "# grouped by cause and filling them in\n",
    "\n",
    "# we will also fill in missing values for climate region and climate category by picking the most common value\n",
    "# when grouped by category\n",
    "\n",
    "means = df.groupby('cause category').mean()\n",
    "mode = df.groupby('cause category').agg(pd.Series.mode)\n",
    "\n",
    "miss_mean_ind = df[(df['outage duration (min)'].isna()) | (df['anomaly level'].isna())].index\n",
    "miss_mode_ind = df[(df['climate region'].isna()) | (df['climate category'].isna())].index\n",
    "\n",
    "for i in miss_mean_ind:\n",
    "    cause = df.loc[i]['cause category']\n",
    "    df.loc[i, 'outage duration (min)'] = means.loc[cause]['outage duration (min)']\n",
    "    df.loc[i, 'outage duration (hrs)'] = means.loc[cause]['outage duration (hrs)']\n",
    "    df.loc[i, 'anomaly level'] = means.loc[cause]['anomaly level']\n",
    "    \n",
    "for i in miss_mode_ind:\n",
    "    cause = df.loc[i]['cause category']\n",
    "    df.loc[i, 'climate region'] = mode.loc[cause]['climate region']\n",
    "    df.loc[i, 'climate category'] = mode.loc[cause]['climate category']\n",
    "\n",
    "    \n",
    "df.isna().sum()"
   ]
  },
  {
   "cell_type": "code",
   "execution_count": 29,
   "metadata": {
    "scrolled": false
   },
   "outputs": [],
   "source": [
    "# print(df.head().to_markdown(index=False))"
   ]
  },
  {
   "cell_type": "markdown",
   "metadata": {},
   "source": [
    "### Baseline Model"
   ]
  },
  {
   "cell_type": "markdown",
   "metadata": {},
   "source": [
    "We will start by splitting the data into training and testing sets. We will then create a basic `DecisionTreeClassifier()` to classify the cause of the outage based on `climate region` and `climate category`. The `climate region` refers to regions designated by National Centers for Environmental Information (Northeast, South, West, etc). The `climate category` column is based on the ONI El Niño/La Niña index that represents how warm/cold a season is, and is the index based off the total year. \n",
    "\n",
    "Extreme `climate category` is more likely to correlate with extreme weather and `climate region` can also be an indicator of weather habits that affect outages. Additionally, public officials may deliberately choose to shut off the power grid during certain weather patterns."
   ]
  },
  {
   "cell_type": "code",
   "execution_count": 5,
   "metadata": {
    "ExecuteTime": {
     "end_time": "2019-10-31T23:36:28.662099Z",
     "start_time": "2019-10-31T23:36:28.660016Z"
    }
   },
   "outputs": [],
   "source": [
    "x = df.drop(['cause category'], axis = 1)\n",
    "y = df['cause category']\n",
    "\n",
    "x_train, x_test, y_train, y_test = train_test_split(x, y, test_size = 0.25, random_state = 42)"
   ]
  },
  {
   "cell_type": "code",
   "execution_count": 6,
   "metadata": {},
   "outputs": [
    {
     "name": "stdout",
     "output_type": "stream",
     "text": [
      "train accuracy: 0.5921739130434782\n",
      "test accuracy: 0.5234375\n"
     ]
    }
   ],
   "source": [
    "dt_base = DecisionTreeClassifier(max_depth = 3)\n",
    "\n",
    "base_pl = Pipeline([('base', ColumnTransformer(\n",
    "            [('climate category', OneHotEncoder(), ['climate category']), \n",
    "             ('climate region', OneHotEncoder(), ['climate region'])],\n",
    "            remainder = 'drop')), \n",
    "        ('basic tree', dt_base)\n",
    "    ])\n",
    "\n",
    "base_pl.fit(x_train, y_train);\n",
    "\n",
    "# we will calculate the score using the built-in .score() method. this is accuracy\n",
    "print('train accuracy: ' + str(base_pl.score(x_train, y_train)))\n",
    "print('test accuracy: ' + str(base_pl.score(x_test, y_test)))\n"
   ]
  },
  {
   "cell_type": "markdown",
   "metadata": {},
   "source": [
    "This doesn't seem completely awful, but it's not anywhere near good either. `base_pl.score()` calls upon `DecisionTreeClassifier()`'s `.score()` method, which returns accuracy. We will find the F-1 score next using weighted averages."
   ]
  },
  {
   "cell_type": "code",
   "execution_count": 7,
   "metadata": {},
   "outputs": [
    {
     "name": "stdout",
     "output_type": "stream",
     "text": [
      "train F-1 score: 0.49595961205501965\n",
      "test F-1 score: 0.4178350638155524\n"
     ]
    }
   ],
   "source": [
    "print('train F-1 score: ' + str(f1_score(y_train, base_pl.predict(x_train), average = 'weighted')))\n",
    "print('test F-1 score: ' + str(f1_score(y_test, base_pl.predict(x_test), average = 'weighted')))"
   ]
  },
  {
   "cell_type": "markdown",
   "metadata": {},
   "source": [
    "This seems a little worse. When only looking at the accuracy (how many true positives), this base model was able to predict the correct power outage around 55% of the time. The F-1 score shows it to be worse, however. While I wouldn't classify this model as good, I wouldn't classify it as awful either. Clearly the model can be improved. "
   ]
  },
  {
   "cell_type": "markdown",
   "metadata": {},
   "source": [
    "### Final Model"
   ]
  },
  {
   "cell_type": "markdown",
   "metadata": {},
   "source": [
    "Now, we want to create a better model. In addition to the two features looked at previously, we will also look at `us state`, `anomaly level`, and `outage duration (min)`. We will perform a quantile encoding for `outage duration (min)` and map `us state` to a numerical value using a custom function.\n",
    "\n",
    "Additionally, we will also search for the best hyperparameters to use in this model. We will tune the maximum depth of the tree, the minimum number of samples needed to split an internal node, and the criterion for splitting (the function by which the quality of the split is judged). \n",
    "\n",
    "- Too deep of a tree may result in overfitting; not deep enough does not allow for detailed enough classification\n",
    "- The larger the minimum number of samples needed to split an internal node, the more likely the classifier will generalize\n",
    "- Different criteria for splitting will lead to different decisions and classifications; the ones chosen are the accepted criteria as given in the documentation "
   ]
  },
  {
   "cell_type": "code",
   "execution_count": 8,
   "metadata": {
    "ExecuteTime": {
     "end_time": "2019-10-31T23:36:28.662099Z",
     "start_time": "2019-10-31T23:36:28.660016Z"
    },
    "scrolled": false
   },
   "outputs": [
    {
     "data": {
      "text/plain": [
       "{'param_tree__criterion': 'entropy',\n",
       " 'param_tree__max_depth': 5,\n",
       " 'param_tree__min_samples_split': 2}"
      ]
     },
     "execution_count": 8,
     "metadata": {},
     "output_type": "execute_result"
    }
   ],
   "source": [
    "states = dict(zip(df.groupby('us state').mean().reset_index()['us state'].values, [i for i in range(1, 51)]))\n",
    "\n",
    "def encode_state(df):\n",
    "    df['us state'] = df['us state'].apply(lambda x: states[x])\n",
    "    return df\n",
    "\n",
    "param_tree = DecisionTreeClassifier()\n",
    "\n",
    "param_pl = Pipeline([('base', ColumnTransformer(\n",
    "            [('one_hot', OneHotEncoder(), ['climate category', 'climate region']),\n",
    "             ('state', FunctionTransformer(encode_state), ['us state']),\n",
    "             ('anomaly', FunctionTransformer(lambda x: x), ['anomaly level']),\n",
    "             ('outage_duration', QuantileTransformer(n_quantiles = 900), ['outage duration (min)'])],\n",
    "            remainder = 'drop')), \n",
    "        ('param_tree', param_tree)\n",
    "    ])\n",
    "\n",
    "# had to limit the number of quantiles as the default is larger than the number of samples used for training \n",
    "# per k-fold\n",
    "\n",
    "hyperparameters = {\n",
    "    'param_tree__max_depth': [2, 3, 4, 5, 7, 10, None], \n",
    "    'param_tree__min_samples_split': [2, 5, 7, 10],\n",
    "    'param_tree__criterion': ['gini', 'entropy']\n",
    "}\n",
    "\n",
    "searcher = GridSearchCV(param_pl, hyperparameters, cv = 8)\n",
    "searcher.fit(x_train, y_train);\n",
    "searcher.best_params_"
   ]
  },
  {
   "cell_type": "markdown",
   "metadata": {},
   "source": [
    "We will use the above parameters for our final model as determined by the `GridSearchCV`"
   ]
  },
  {
   "cell_type": "code",
   "execution_count": 9,
   "metadata": {
    "scrolled": false
   },
   "outputs": [
    {
     "name": "stdout",
     "output_type": "stream",
     "text": [
      "final train accuracy: 0.72\n",
      "final test accuracy: 0.6302083333333334\n",
      "final train F-1 score: 0.7025791136434512\n",
      "final test F-1 score: 0.6015811365023541\n"
     ]
    }
   ],
   "source": [
    "final_tree = DecisionTreeClassifier(criterion = 'entropy', max_depth = 5, min_samples_split = 2)\n",
    "\n",
    "final_pl = Pipeline([('base', ColumnTransformer(\n",
    "            [('one_hot', OneHotEncoder(), ['climate category', 'climate region']),\n",
    "             ('state', FunctionTransformer(encode_state), ['us state']),\n",
    "             ('anomaly', FunctionTransformer(lambda x: x), ['anomaly level']),\n",
    "             ('outage_duration', QuantileTransformer(n_quantiles = 900), ['outage duration (min)'])],\n",
    "            remainder = 'drop')), \n",
    "        ('param_tree', final_tree)\n",
    "    ])\n",
    "\n",
    "final_pl.fit(x_train, y_train)\n",
    "\n",
    "print('final train accuracy: ' + str(final_pl.score(x_train, y_train)))\n",
    "print('final test accuracy: ' + str(final_pl.score(x_test, y_test)))\n",
    "\n",
    "print('final train F-1 score: ' + str(f1_score(y_train, final_pl.predict(x_train), average = 'weighted')))\n",
    "print('final test F-1 score: ' + str(f1_score(y_test, final_pl.predict(x_test), average = 'weighted')))"
   ]
  },
  {
   "cell_type": "markdown",
   "metadata": {},
   "source": [
    "We can compare this to the original base model."
   ]
  },
  {
   "cell_type": "code",
   "execution_count": 10,
   "metadata": {},
   "outputs": [
    {
     "name": "stdout",
     "output_type": "stream",
     "text": [
      "base train accuracy: 0.5921739130434782\n",
      "base test accuracy: 0.5234375\n",
      "base train F-1 score: 0.49595961205501965\n",
      "base test F-1 score: 0.4178350638155524\n"
     ]
    }
   ],
   "source": [
    "print('base train accuracy: ' + str(base_pl.score(x_train, y_train)))\n",
    "print('base test accuracy: ' + str(base_pl.score(x_test, y_test)))\n",
    "\n",
    "print('base train F-1 score: ' + str(f1_score(y_train, base_pl.predict(x_train), average = 'weighted')))\n",
    "print('base test F-1 score: ' + str(f1_score(y_test, base_pl.predict(x_test), average = 'weighted')))"
   ]
  },
  {
   "cell_type": "markdown",
   "metadata": {},
   "source": [
    "In comparing both F-1 and accuracy scores from the base model and from the final model, it is clear that the final model performs much better. "
   ]
  },
  {
   "cell_type": "markdown",
   "metadata": {},
   "source": [
    "### Fairness Analysis"
   ]
  },
  {
   "cell_type": "markdown",
   "metadata": {
    "ExecuteTime": {
     "end_time": "2019-10-31T23:36:28.666489Z",
     "start_time": "2019-10-31T23:36:28.664381Z"
    }
   },
   "source": [
    "Now we see if the model performs better or worse for certain groups. We will split our data by state into landlocked states and not landlocked states. A quick search (or if a map if you are exceptionally good at geography) tells us that the not landlocked states are: Alaska, Hawai'i, Washington, Oregon, California, Texas, Louisiana, Alabama, Florida, Georgia, South Carolina, North Carolina, Virginia, Maryland, Delaware, New Jersey, Mississippi, New York, Connecticut, Rhode Island, Massachusetts, New Hampshire, and Maine. Two notes on this: \n",
    "- Rhode Island has somehow avoided any power outages (or its power outages avoided being included in this set), so we will not include it\n",
    "- Hawai'i is written as Hawaii in this dataset; we will use Hawaii"
   ]
  },
  {
   "cell_type": "code",
   "execution_count": 32,
   "metadata": {
    "scrolled": false
   },
   "outputs": [
    {
     "data": {
      "text/html": [
       "<div>\n",
       "<style scoped>\n",
       "    .dataframe tbody tr th:only-of-type {\n",
       "        vertical-align: middle;\n",
       "    }\n",
       "\n",
       "    .dataframe tbody tr th {\n",
       "        vertical-align: top;\n",
       "    }\n",
       "\n",
       "    .dataframe thead th {\n",
       "        text-align: right;\n",
       "    }\n",
       "</style>\n",
       "<table border=\"1\" class=\"dataframe\">\n",
       "  <thead>\n",
       "    <tr style=\"text-align: right;\">\n",
       "      <th></th>\n",
       "      <th>us state</th>\n",
       "      <th>nerc region</th>\n",
       "      <th>climate region</th>\n",
       "      <th>anomaly level</th>\n",
       "      <th>climate category</th>\n",
       "      <th>cause category</th>\n",
       "      <th>outage duration (min)</th>\n",
       "      <th>demand loss mw</th>\n",
       "      <th>customers affected</th>\n",
       "      <th>population</th>\n",
       "      <th>start time</th>\n",
       "      <th>restoration time</th>\n",
       "      <th>total time</th>\n",
       "      <th>outage duration (hrs)</th>\n",
       "      <th>landlocked</th>\n",
       "    </tr>\n",
       "  </thead>\n",
       "  <tbody>\n",
       "    <tr>\n",
       "      <th>0</th>\n",
       "      <td>Minnesota</td>\n",
       "      <td>MRO</td>\n",
       "      <td>East North Central</td>\n",
       "      <td>-0.3</td>\n",
       "      <td>normal</td>\n",
       "      <td>severe weather</td>\n",
       "      <td>3060.0</td>\n",
       "      <td>NaN</td>\n",
       "      <td>70000.0</td>\n",
       "      <td>5348119.0</td>\n",
       "      <td>2011-07-01 17:00:00</td>\n",
       "      <td>2011-07-03 20:00:00</td>\n",
       "      <td>2 days 03:00:00</td>\n",
       "      <td>51.00</td>\n",
       "      <td>1</td>\n",
       "    </tr>\n",
       "    <tr>\n",
       "      <th>1</th>\n",
       "      <td>Minnesota</td>\n",
       "      <td>MRO</td>\n",
       "      <td>East North Central</td>\n",
       "      <td>-0.1</td>\n",
       "      <td>normal</td>\n",
       "      <td>intentional attack</td>\n",
       "      <td>1.0</td>\n",
       "      <td>NaN</td>\n",
       "      <td>NaN</td>\n",
       "      <td>5457125.0</td>\n",
       "      <td>2014-05-11 18:38:00</td>\n",
       "      <td>2014-05-11 18:39:00</td>\n",
       "      <td>0 days 00:01:00</td>\n",
       "      <td>0.02</td>\n",
       "      <td>1</td>\n",
       "    </tr>\n",
       "    <tr>\n",
       "      <th>2</th>\n",
       "      <td>Minnesota</td>\n",
       "      <td>MRO</td>\n",
       "      <td>East North Central</td>\n",
       "      <td>-1.5</td>\n",
       "      <td>cold</td>\n",
       "      <td>severe weather</td>\n",
       "      <td>3000.0</td>\n",
       "      <td>NaN</td>\n",
       "      <td>70000.0</td>\n",
       "      <td>5310903.0</td>\n",
       "      <td>2010-10-26 20:00:00</td>\n",
       "      <td>2010-10-28 22:00:00</td>\n",
       "      <td>2 days 02:00:00</td>\n",
       "      <td>50.00</td>\n",
       "      <td>1</td>\n",
       "    </tr>\n",
       "    <tr>\n",
       "      <th>3</th>\n",
       "      <td>Minnesota</td>\n",
       "      <td>MRO</td>\n",
       "      <td>East North Central</td>\n",
       "      <td>-0.1</td>\n",
       "      <td>normal</td>\n",
       "      <td>severe weather</td>\n",
       "      <td>2550.0</td>\n",
       "      <td>NaN</td>\n",
       "      <td>68200.0</td>\n",
       "      <td>5380443.0</td>\n",
       "      <td>2012-06-19 04:30:00</td>\n",
       "      <td>2012-06-20 23:00:00</td>\n",
       "      <td>1 days 18:30:00</td>\n",
       "      <td>42.50</td>\n",
       "      <td>1</td>\n",
       "    </tr>\n",
       "    <tr>\n",
       "      <th>4</th>\n",
       "      <td>Minnesota</td>\n",
       "      <td>MRO</td>\n",
       "      <td>East North Central</td>\n",
       "      <td>1.2</td>\n",
       "      <td>warm</td>\n",
       "      <td>severe weather</td>\n",
       "      <td>1740.0</td>\n",
       "      <td>250.0</td>\n",
       "      <td>250000.0</td>\n",
       "      <td>5489594.0</td>\n",
       "      <td>2015-07-18 02:00:00</td>\n",
       "      <td>2015-07-19 07:00:00</td>\n",
       "      <td>1 days 05:00:00</td>\n",
       "      <td>29.00</td>\n",
       "      <td>1</td>\n",
       "    </tr>\n",
       "  </tbody>\n",
       "</table>\n",
       "</div>"
      ],
      "text/plain": [
       "    us state nerc region      climate region  anomaly level climate category  \\\n",
       "0  Minnesota         MRO  East North Central           -0.3           normal   \n",
       "1  Minnesota         MRO  East North Central           -0.1           normal   \n",
       "2  Minnesota         MRO  East North Central           -1.5             cold   \n",
       "3  Minnesota         MRO  East North Central           -0.1           normal   \n",
       "4  Minnesota         MRO  East North Central            1.2             warm   \n",
       "\n",
       "       cause category  outage duration (min)  demand loss mw  \\\n",
       "0      severe weather                 3060.0             NaN   \n",
       "1  intentional attack                    1.0             NaN   \n",
       "2      severe weather                 3000.0             NaN   \n",
       "3      severe weather                 2550.0             NaN   \n",
       "4      severe weather                 1740.0           250.0   \n",
       "\n",
       "   customers affected  population          start time    restoration time  \\\n",
       "0             70000.0   5348119.0 2011-07-01 17:00:00 2011-07-03 20:00:00   \n",
       "1                 NaN   5457125.0 2014-05-11 18:38:00 2014-05-11 18:39:00   \n",
       "2             70000.0   5310903.0 2010-10-26 20:00:00 2010-10-28 22:00:00   \n",
       "3             68200.0   5380443.0 2012-06-19 04:30:00 2012-06-20 23:00:00   \n",
       "4            250000.0   5489594.0 2015-07-18 02:00:00 2015-07-19 07:00:00   \n",
       "\n",
       "       total time  outage duration (hrs)  landlocked  \n",
       "0 2 days 03:00:00                  51.00           1  \n",
       "1 0 days 00:01:00                   0.02           1  \n",
       "2 2 days 02:00:00                  50.00           1  \n",
       "3 1 days 18:30:00                  42.50           1  \n",
       "4 1 days 05:00:00                  29.00           1  "
      ]
     },
     "execution_count": 32,
     "metadata": {},
     "output_type": "execute_result"
    }
   ],
   "source": [
    "# split the data according to landlocked and not landlocked\n",
    "\n",
    "not_locked = ['Alaska', 'Hawaii', 'Washington', 'Oregon', 'California', 'Texas', 'Louisiana', 'Alabama',\n",
    "              'Florida', 'Georgia', 'South Carolina', 'North Carolina', 'Virginia', 'Maryland', 'Delaware',\n",
    "              'New Jersey', 'Mississippi', 'New York', 'Connecticut', 'Rhode Island', 'Massachusetts',\n",
    "              'New Hampshire', 'Maine']\n",
    "\n",
    "df['landlocked'] = df['us state'].apply(lambda x: 0 if x in not_locked else 1)\n",
    "\n",
    "df.head()"
   ]
  },
  {
   "cell_type": "code",
   "execution_count": 34,
   "metadata": {},
   "outputs": [],
   "source": [
    "# print(df.head().to_markdown(index=False))"
   ]
  },
  {
   "cell_type": "markdown",
   "metadata": {},
   "source": [
    "We now create our permutation test to see if the model performs better or worse for landlocked states. Our null and alternative hypotheses will be as follows:\n",
    "\n",
    "- $H_0$ (null): The final model is fair. Its F-1 score for both landlocked states and not landlocked states are roughly the same and any difference is due to chance.\n",
    "- $H_a$ (alternative): The final model is unfair. The F-1 score for landlocked states and not landlocked states are not equal.\n",
    "\n",
    "We will repeatedly shuffle the `landlocked` column, split the data into landlocked and not landlocked, and conduct a permutation test based on the absolute difference between the F-1 scores for each group. We will use a p-value of 0.05."
   ]
  },
  {
   "cell_type": "code",
   "execution_count": 21,
   "metadata": {},
   "outputs": [],
   "source": [
    "locked = df[df['landlocked'] == 1]\n",
    "not_locked = df[df['landlocked'] == 0]\n",
    "\n",
    "locked_f1 = f1_score(locked['cause category'], final_pl.predict(locked.drop('cause category', axis = 1)), \n",
    "                     average = 'weighted')\n",
    "not_locked_f1 = f1_score(not_locked['cause category'], \n",
    "                     final_pl.predict(not_locked.drop('cause category', axis = 1)), \n",
    "                     average = 'weighted')\n",
    "\n",
    "obs_diff = np.abs(locked_f1 - not_locked_f1)\n",
    "\n",
    "n = 1000\n",
    "diffs = []\n",
    "\n",
    "for i in range(n):\n",
    "    \n",
    "    with_shuffled = df.assign(locked_shuff = np.random.permutation(df['landlocked']))\n",
    "    \n",
    "    locked = with_shuffled[with_shuffled['locked_shuff'] == 1]\n",
    "    not_locked = with_shuffled[with_shuffled['locked_shuff'] == 0]\n",
    "\n",
    "    locked_f1 = f1_score(locked['cause category'], final_pl.predict(locked.drop('cause category', axis = 1)), \n",
    "                     average = 'weighted')\n",
    "    not_locked_f1 = f1_score(not_locked['cause category'], \n",
    "                     final_pl.predict(not_locked.drop('cause category', axis = 1)), \n",
    "                     average = 'weighted')\n",
    "\n",
    "    diff = np.abs(locked_f1 - not_locked_f1)\n",
    "    diffs.append(diff)"
   ]
  },
  {
   "cell_type": "code",
   "execution_count": 22,
   "metadata": {},
   "outputs": [
    {
     "data": {
      "application/vnd.plotly.v1+json": {
       "config": {
        "plotlyServerURL": "https://plot.ly"
       },
       "data": [
        {
         "alignmentgroup": "True",
         "bingroup": "x",
         "histnorm": "probability",
         "hovertemplate": "0=%{x}<br>probability=%{y}<extra></extra>",
         "legendgroup": "",
         "marker": {
          "color": "pink",
          "pattern": {
           "shape": ""
          }
         },
         "name": "",
         "nbinsx": 50,
         "offsetgroup": "",
         "orientation": "v",
         "showlegend": false,
         "type": "histogram",
         "x": [
          0.0011312913480445719,
          0.038122829771146116,
          0.04679668083976685,
          0.009184612286201488,
          0.005994542230023714,
          0.030079754959564498,
          0.030340005613926024,
          0.002181463618845081,
          0.020212238233142665,
          0.011827838052080764,
          0.002403107801435378,
          0.03327997674083527,
          0.002242696692071111,
          0.04693234093706011,
          0.03087686462075212,
          0.008940850353363117,
          0.046961194817872864,
          0.019457931444491927,
          0.052055445033203696,
          0.045062090379297204,
          0.016877430678882477,
          0.03754683534455705,
          0.0706328619132246,
          0.03085688639933537,
          0.015731084373369786,
          0.039640737206979026,
          0.0012572287052883269,
          0.046154092099950694,
          0.013222940427191854,
          0.07237484243513181,
          0.0242293864733768,
          0.027476236902673867,
          0.009308324571468685,
          0.01178431656360368,
          0.0012495982790740046,
          0.07034146363968796,
          0.02029839556320645,
          0.031220906507660073,
          0.05723961058747218,
          0.020305187864327334,
          0.004781602210226166,
          0.035683253817331395,
          0.005446960948402246,
          0.0035949598592289744,
          0.0021699919457300876,
          0.019528760715664895,
          0.047585487092201006,
          0.016536981448031285,
          0.0025209980504150575,
          0.002304818098516792,
          0.045782319040839514,
          0.01224433798424629,
          0.02470334588724654,
          0.03598998093368655,
          0.002051830298523849,
          0.01996743647735222,
          0.01077870101477063,
          0.01486179129151699,
          0.014193128641668662,
          0.007217385644068597,
          0.038044429023643245,
          0.02619218178605398,
          0.029831699355863828,
          0.00046504912680322974,
          0.002266057357006468,
          0.017796829652492074,
          0.008255093108689993,
          0.01599605494169165,
          0.020860665742868933,
          0.01916892533230441,
          0.045095300112103165,
          0.012960265426868123,
          0.01077730012200906,
          0.010705727362747108,
          0.01654518318959497,
          0.03196545403475526,
          0.019907997571790292,
          0.06367312407444159,
          0.00806592808613038,
          0.010932893103512864,
          0.0042283599991010945,
          0.00371224271636561,
          0.032675702115967487,
          0.001799421263847023,
          0.017006301066497254,
          0.017598858221394065,
          0.012202276316971572,
          0.002637692047224305,
          0.01209969816042411,
          0.029062097004718734,
          0.012047873264037001,
          0.014328681004881494,
          0.03984038215021568,
          0.014520092071498736,
          0.0213961590127425,
          0.013833015157351691,
          0.04663288095308282,
          0.015489090038626196,
          0.01459233793179826,
          0.0008793624888074891,
          0.02987400859703382,
          0.015176903900380623,
          0.004596056595471132,
          0.006310645581913188,
          0.019533375166198574,
          0.0057970202117101355,
          0.005835238841571888,
          0.03239787067516964,
          0.05442545262711784,
          0.003047106184407511,
          0.013992775136726365,
          0.008163556119588966,
          0.02146645962615601,
          0.006107178935418567,
          0.0014628339633578902,
          0.015817141489322784,
          0.026850674598919877,
          0.0272508347625654,
          0.023388151871848728,
          0.03015871210467802,
          0.004094978709975106,
          0.010368033408888366,
          0.03070393256212367,
          0.006565397279404084,
          0.024184013360194823,
          0.022398988295058153,
          0.025643949065493943,
          0.017835694062330876,
          0.006505427932468444,
          0.02452881185232103,
          0.06550557063483498,
          0.023994023269907072,
          0.024609016898734404,
          0.003004504081458359,
          0.0032167346810335617,
          0.01355710028665802,
          0.022705685982162827,
          0.01267109087890339,
          0.019367893112780532,
          0.04863682109841838,
          0.0026170585703340077,
          0.030274072871895208,
          0.0008045037302132352,
          0.02081657282588667,
          0.026247343006098767,
          0.008497759220830847,
          6.29788206075732e-05,
          0.047746191944290195,
          0.005017809964589115,
          0.001760318780589798,
          0.02276390604692058,
          0.018766911876227144,
          0.012753003768821825,
          0.019203032436770573,
          0.02791916039422404,
          0.0003321292069443649,
          0.013617758361196941,
          0.023624211706358422,
          0.030540909443892206,
          0.03009097522010029,
          0.038970624559596434,
          0.09472866646380596,
          0.015753424227872292,
          0.013258299560839015,
          0.013476708376045088,
          0.02295279362333591,
          0.0373258650889422,
          0.0035302439497669758,
          0.004777187366630242,
          0.0073091944681249466,
          0.003901606978839456,
          0.03418918415341565,
          0.03713707392284382,
          0.04259965690322742,
          0.0012612504812111736,
          0.008057845242775308,
          0.016657421095750746,
          0.011191275319763161,
          0.027639023647084482,
          0.010731095438953897,
          0.013445034544138257,
          0.015361557882757615,
          0.005175112399715798,
          0.00028049982761690906,
          0.0405054855791569,
          0.026826631484157315,
          0.03185349221556555,
          0.017533461356052715,
          0.002039627103523234,
          0.023692734974569918,
          0.01334143406883026,
          0.038913157952377486,
          0.024646232216347874,
          0.007005641783994099,
          0.004217915964364827,
          0.009520861484600074,
          0.008624594603473423,
          0.001278028345531923,
          0.011270004856885119,
          0.04627557421683526,
          0.018228905048653488,
          0.019233388862192946,
          0.030553736234187334,
          0.025349267853672197,
          0.014457226211705976,
          0.001711597781251628,
          0.03661201759649646,
          0.009473937849352243,
          0.03867450947287199,
          0.030955332370968258,
          0.0466961715309373,
          0.006267327672980327,
          0.003231645534940819,
          0.0027718583899567495,
          0.03198481326101932,
          0.025300920420186057,
          0.0001526184369262662,
          0.004519088414888461,
          0.004924030696404458,
          0.028667666452939722,
          0.004550761404938486,
          0.010908337033223248,
          0.0008972508952721503,
          0.023423118888699412,
          0.011258224166222353,
          0.0026042240769628133,
          0.05760490302982002,
          0.02113691796935202,
          0.0401850845020949,
          0.010114205356335226,
          0.024436300256110433,
          0.004903645258196088,
          0.01115019570042497,
          0.0018116407900651277,
          0.0007098299024403953,
          0.001476715095610981,
          0.0066203793060491956,
          0.01015415231477168,
          0.016649932050555982,
          0.005080437017510597,
          0.036827298364571104,
          0.03661959841223483,
          0.022070282260396312,
          0.029938051448262004,
          0.002241756354072977,
          0.03289851602850247,
          0.002385751677480341,
          0.0032062158283424624,
          0.020142252723610587,
          0.007695320006861572,
          0.008962607597456596,
          0.05428441303016518,
          0.03440903933655248,
          0.038566802483113505,
          0.0015445552849917554,
          0.05796940298023423,
          0.02121503695998761,
          0.012062493067283797,
          0.015266120372133818,
          0.025110190893667728,
          0.05762627620198291,
          0.013902930053835472,
          0.02749715432291866,
          0.0180689770119693,
          0.05857141548657763,
          0.0021586517138435513,
          0.017799017238139814,
          0.03424480934557106,
          0.038952434251190104,
          0.009862277640670492,
          0.01655695674127955,
          0.01504593091501416,
          0.010989148387208991,
          0.04178818180791166,
          0.0619251546732299,
          0.04620844300606619,
          0.017942328480187397,
          0.037877869610454584,
          0.007805985419881312,
          0.011562019613340468,
          0.023111624190472857,
          0.0416275677108503,
          0.014316478251235054,
          0.0023018091627304837,
          0.029720644382881356,
          0.0025953648341987545,
          0.022498473528482554,
          0.009485461680953655,
          0.023138367378924718,
          0.0024926982694439825,
          0.025358215594198263,
          0.021459869270363696,
          0.01742428879894986,
          0.019875079720419242,
          0.03521308000234713,
          0.011531603712840677,
          0.011941381865336331,
          0.0017274851765177734,
          0.019582197476377905,
          0.012406359361969543,
          0.023759447866579686,
          0.006354509647014783,
          0.04897691096254975,
          0.001467159355838965,
          0.004455846965110477,
          0.001145637165401392,
          0.05137872502784202,
          0.003304572346816137,
          0.028942873479057996,
          0.005939487324070791,
          0.008083181354454516,
          0.004156202284481436,
          0.028021448235553748,
          0.008949341674916345,
          0.010152821096168885,
          0.02036993349750349,
          0.006487898459271668,
          0.004588582737459768,
          0.009605485358817778,
          0.04623183270356501,
          0.022493092682666194,
          0.0010946961873938843,
          0.0006396042535508073,
          0.03668738050661302,
          0.04436548815562158,
          0.013548771499088508,
          0.04603600029650312,
          0.013060063003836997,
          0.025683913802921232,
          0.014073807863280385,
          0.019314076379944645,
          0.008555243532635926,
          0.03857241689904145,
          0.061800969397429184,
          0.01004887079502026,
          0.04971063912032925,
          0.04760234857288026,
          0.00950993936207123,
          0.01272576344888865,
          0.011971809959040458,
          0.003991618851223566,
          0.027169245795288344,
          0.0103611568339671,
          0.00025375540201522107,
          0.021109759535648753,
          0.003975888046981901,
          0.014049265852940751,
          0.035243986207601385,
          0.002605138890806158,
          0.04554592787819689,
          0.0026608823640064116,
          0.03658270099645067,
          0.02168176719731396,
          0.024166635952078352,
          0.04626544222689266,
          0.005570461440175478,
          0.001240116902183952,
          0.02950673679153526,
          0.012284203509241642,
          0.042211671318230226,
          0.033914474300190456,
          0.019458524502357855,
          0.0021794741598127887,
          0.02600886209766662,
          0.0151591527951076,
          0.0008195452498855893,
          0.00200837094965145,
          0.006799248411308856,
          0.025547987753001045,
          0.04516440951320744,
          0.04206696023435841,
          0.020951107644802236,
          0.03695075104688783,
          0.0019039815786450198,
          0.01639174774301444,
          0.01322654825536329,
          0.008165000415708334,
          0.00797666829487631,
          0.03979856821678096,
          0.02479938816692584,
          0.044171061113468024,
          0.025798926887542373,
          0.04249846001303803,
          0.004339847121461626,
          0.0058875741401337445,
          0.007762735701485335,
          0.003350319490369791,
          0.01143076487149397,
          0.0321086301058523,
          0.0016289875436673595,
          0.026467474719006012,
          0.019225871994998034,
          0.02645335192233811,
          0.009659671498409295,
          0.011127291261856076,
          0.015307252253313197,
          0.013414461269551481,
          0.04516564558002689,
          0.028182436429345037,
          0.022953112219647687,
          0.05349480416931829,
          0.056046333552795535,
          0.025951810044436474,
          0.0020256887043866856,
          0.02180989685932677,
          0.02619441870564332,
          0.03196487532266101,
          0.00760821633872788,
          0.008588545142639514,
          0.017018521558969213,
          0.026073443599872848,
          0.001529856948498165,
          0.04091964931212888,
          0.06124366967321959,
          0.015963105737008765,
          0.03861441723114256,
          0.03846930215071176,
          0.02481350555617301,
          0.0144405656575195,
          0.012482368455250525,
          0.024835295353988318,
          0.037169654815607966,
          0.047382512272953536,
          0.022448596492184558,
          0.02930040245549248,
          0.011154768044127517,
          0.04063126684964047,
          0.012171302684982677,
          0.024936994527446243,
          0.022971681635681418,
          0.03439671051081905,
          0.0028161991490653904,
          0.004978812982742942,
          0.0348489606124015,
          0.03936750115008347,
          0.006420898099739225,
          0.02526003106614505,
          0.0039604254383274196,
          0.02846612573061935,
          0.024195740264035148,
          0.00576226519554357,
          0.00411566500703664,
          0.05241736238167716,
          0.02592714237954541,
          0.027483287455228433,
          0.01799685956630359,
          0.03395430287408907,
          0.005723658247643759,
          0.0011168893739542662,
          0.00383619584641548,
          0.011935752465642713,
          0.010479907118226661,
          0.03223595349895725,
          0.022077513929537163,
          0.023256131710280847,
          0.060963051954470826,
          0.0013111915039208943,
          0.018790244276763235,
          0.027647108336991355,
          0.050231597084031465,
          0.046604910649741815,
          0.005769117434110793,
          0.013349247105630346,
          0.02710782178892679,
          0.015790599948548922,
          0.008963385992910133,
          0.03821622979650341,
          0.006915649855643857,
          0.012054750016263327,
          0.014190974077401886,
          0.028663120209176163,
          0.023530453090726433,
          0.05728189178986087,
          0.05250133442572025,
          0.0037311100806847186,
          0.003456544497065117,
          0.03693745477687349,
          0.06788378239870896,
          0.019443293935464734,
          0.03169178667516137,
          0.013621918780077347,
          0.010852379752811725,
          0.024998950157855027,
          0.011969280864553178,
          0.012605438742695041,
          0.013516202186955706,
          0.017032074730157443,
          0.024329494235361793,
          0.023797022423337033,
          0.015820026813016863,
          0.006711567262953633,
          0.03830017972733801,
          0.011809060058066145,
          0.0014702228657974548,
          0.028844826256588574,
          0.03766477525565015,
          0.022946467470482124,
          0.041727353909269405,
          0.002778852145004951,
          0.009750797330350669,
          0.030091611393765372,
          0.029518886817628043,
          0.05304348214826038,
          0.018344699874248693,
          0.04976714481256628,
          0.014217661247219793,
          0.01813943624795511,
          0.021903026545879056,
          0.008246217424134339,
          0.0014879140691773651,
          0.058300947032074224,
          0.016514742132058058,
          0.06123081556186316,
          0.0007752315168708668,
          0.015822441500883744,
          0.003700951119393947,
          0.04521740967791876,
          0.015890097526931712,
          0.03502626938188824,
          0.0036988011497020024,
          0.05023564053546492,
          0.021183705717404466,
          0.01989765847505376,
          0.005000639308346599,
          0.006212798659452012,
          0.011173440348445807,
          0.030932684962833745,
          0.005330539788849675,
          0.01255813819259577,
          0.03945855237554585,
          0.03797638972701023,
          0.011052965391224245,
          0.019013399189122926,
          0.018152648218633938,
          0.0818991716373969,
          0.008198901190968666,
          0.007090404065785427,
          0.029729651834009885,
          0.02985739813936683,
          0.012611509452365555,
          0.020142724817541535,
          0.010854069172973158,
          0.009962256779941558,
          0.0010445072294338331,
          0.0029174908625355656,
          0.008740381166377542,
          0.04401292358978648,
          0.028125351841542745,
          0.02827913896150902,
          0.032288983734173105,
          0.03049454355036052,
          0.00015874608498434029,
          0.022069258852356888,
          0.023957783778314923,
          0.012752409655356178,
          0.014261022721444916,
          0.034568537140621025,
          0.021998809707185152,
          0.007886361454310098,
          0.03778599890408518,
          0.023715107902646526,
          0.0474433271061504,
          0.032380291915701354,
          0.017951446321526343,
          0.06210288252988372,
          0.022279134836419967,
          0.026816311187523145,
          0.016756959143166106,
          0.01013833499631478,
          0.010572577916379444,
          0.04330006783583107,
          0.007478596384409952,
          0.029389629766537584,
          0.03873295877931904,
          0.03286204866490472,
          0.017235223028229663,
          0.032566359554193736,
          0.017313580365043713,
          0.005123315434257925,
          0.061796659485548244,
          0.009785557260446165,
          0.06211434381029979,
          0.016552331671873866,
          0.021619348833321617,
          0.014490052311681434,
          0.004531037036849095,
          0.03847447188984343,
          0.006043506364052931,
          0.026682034743542915,
          0.009248939077518892,
          0.016285166805930507,
          0.04608666283740637,
          0.02989395154793084,
          0.02153184560888588,
          0.023992433341435304,
          0.04583280414584667,
          0.006544913106473094,
          0.04312981613196465,
          0.0413422096148951,
          0.03406219073265626,
          0.0268846619405555,
          0.02822367329233466,
          0.004844330801649588,
          0.0006249911576917677,
          0.01538040812359287,
          0.001693720607306659,
          0.016836589858660767,
          0.01717729794987599,
          0.02179771242017836,
          0.009726021752737624,
          0.01995834591324208,
          0.012605539173618174,
          0.05678389230515313,
          0.03706537626496764,
          0.0226575819021001,
          0.007985772867473484,
          0.0026848257854025226,
          0.0036980985176232606,
          0.016384669582228284,
          0.0037779513590143754,
          0.021403626011720522,
          0.02408818432876525,
          0.013755993060671878,
          0.02896130941074493,
          0.002703877097650631,
          0.03766323849722597,
          0.019538975526746882,
          0.014486795560855081,
          0.015635077227727612,
          0.02424017423087199,
          0.015362345722974124,
          0.06293842625877732,
          0.05647267288016411,
          0.0019498988013103569,
          0.007506998974098011,
          0.024794860480025882,
          0.02781848788102992,
          0.01636759159289325,
          0.029171906159917493,
          0.021689753421331726,
          0.029482342308844722,
          0.0006848161454480195,
          0.022445416868833612,
          0.0018685471682462484,
          0.0010580009472591634,
          0.0007149920380157271,
          0.0516396527943781,
          0.008412658522239491,
          0.018408127356233872,
          0.023468301828255544,
          0.021515949772871856,
          0.008806203496511955,
          0.018897495198721526,
          0.012603391613502102,
          0.006383099658267888,
          0.017138882978584014,
          0.06423016736282317,
          0.009290409813096479,
          0.04921129278957115,
          0.003732235276561524,
          0.020888084166481802,
          0.03480244821371126,
          0.0012283736068936513,
          0.07116960039062126,
          0.022083602173253225,
          0.005479411189597716,
          0.00972352277235411,
          0.009879146842241227,
          0.02798622329885292,
          0.023248606505678504,
          0.009888944030240432,
          0.017437590305482975,
          0.00202427528777549,
          0.02829362550287462,
          0.017147716068673824,
          0.01430499741747382,
          0.0038206937292232235,
          0.027326873140507746,
          0.022652054848738,
          0.03704037446665864,
          0.012671499214394588,
          0.022683792221090404,
          0.028161708225263204,
          0.003967761456323049,
          0.03600848154339076,
          0.011006275400802568,
          0.0030878230348962976,
          0.01072252806937335,
          0.0016828452023393004,
          0.020769396774306892,
          0.016511827316595284,
          0.009207247222968395,
          0.07297115658799946,
          0.01699221665344708,
          0.04485099076870003,
          0.030761247442459116,
          0.06401668855809428,
          0.018372944604586827,
          0.013328913192449443,
          0.03728775648109417,
          0.013637083079861112,
          0.008273572355192216,
          0.02533172082936397,
          0.03144203086222652,
          0.00270868744687347,
          0.0017285322827755856,
          0.019540860048569808,
          0.01200720983933179,
          0.019436816382090383,
          0.05600105352154128,
          0.0079588810344694,
          0.025097959755522314,
          0.0456243533979005,
          0.040430625202024895,
          0.006860172246225704,
          0.023078686277423377,
          0.033685120549243774,
          0.002674449813020785,
          0.00535100386242493,
          0.012630574770463476,
          0.008845327192067876,
          0.04007159492607115,
          0.04347043475715551,
          0.046281058019745136,
          0.0069893442099759895,
          0.019503524386910942,
          0.003702674241498616,
          0.04584631053902499,
          0.03619179509846393,
          0.03270271782332046,
          0.0076263316838529605,
          0.010977112723185467,
          0.017706462397931833,
          0.025801365684740896,
          0.046805664940894776,
          0.021268711728394063,
          0.0018693838123668982,
          0.02318660970329256,
          0.03699495829487576,
          0.02835124111726295,
          0.00841820520677139,
          0.013088442885849094,
          0.008096752269931784,
          0.03888010238844786,
          0.013828256442500741,
          0.016215481291979028,
          0.02024835476147413,
          0.006051285457298383,
          0.01269446596548296,
          0.0134227035236959,
          0.04250525106097258,
          0.051571823575503606,
          0.020032726287494973,
          0.031115737920617947,
          0.018892413172292954,
          0.0013077907067127192,
          0.014860172032155061,
          0.005120159405024527,
          0.02349499600794569,
          0.0036750379484941087,
          0.035566896456709185,
          0.004784664428143626,
          0.0013819835736355035,
          0.03926727473505964,
          0.012096004933526139,
          0.0031867871669024606,
          0.004894150505275641,
          0.0064881801110246995,
          0.019733507025217367,
          0.014747301321916706,
          0.003690274225627843,
          0.004087231483513976,
          0.00177806819474835,
          0.0239604696345721,
          0.006329575728300063,
          0.05283774322676671,
          0.027579040648671782,
          0.013639438467824672,
          0.0001669176894109059,
          0.005178458582276169,
          0.0049083158601940235,
          0.004033288415262848,
          0.032552694890014666,
          0.007532208425845344,
          0.0027620306037590137,
          0.01044534199365832,
          0.02523670948301371,
          0.028569615904564305,
          0.0046144267432657315,
          0.0163961322151418,
          0.016280055384827796,
          0.029651967535249457,
          0.006762734462517517,
          0.0137119433636409,
          0.005898111473102374,
          0.01673003900982195,
          0.03086105988497123,
          0.014886328763571877,
          0.019597020501328388,
          0.03813838139314174,
          0.003670452673834923,
          0.027349083883385972,
          0.008825400905345337,
          0.012010654937834708,
          0.006554304593126892,
          0.017492929612909824,
          0.05121386207170964,
          0.01405587525472074,
          0.013699835948387307,
          0.030694669140121755,
          0.008374588182618159,
          0.031584544940190695,
          0.042038146396668696,
          0.03066374429210772,
          0.02275614121329561,
          0.004804306229411859,
          0.021790705651028364,
          0.017348754677878442,
          0.01751780724722407,
          0.02705541772517772,
          0.027806902290035462,
          0.007017744824612704,
          0.0039072014157861545,
          0.0115667961442677,
          0.019079322751524685,
          0.04883474856823866,
          0.03274001113095237,
          0.0032428512076563276,
          0.041199661572421054,
          0.0306531816051131,
          0.051927471469162545,
          0.02965918484522556,
          0.012930207784460857,
          0.002303099595238667,
          0.010941443482805124,
          0.03069338086915141,
          0.011742843377265832,
          0.03015530194048388,
          0.010868197691079162,
          0.008342405709786171,
          0.05240047050098173,
          0.05679048879770676,
          0.026743063569254044,
          0.0028231389795904116,
          0.05033358848154945,
          0.03169030131299144,
          0.015282543922283676,
          0.016877816638074417,
          0.005721347443165659,
          0.019185001923451184,
          0.02114381556088063,
          0.006032836253450635,
          0.01756679257153826,
          0.01650746605193476,
          0.005267177607723772,
          0.009096198434808689,
          0.012747650222271645,
          0.01655467550949774,
          0.025027987507935667,
          0.013891648827301761,
          0.017985333922439728,
          0.01595567692775135,
          0.008521026504886953,
          0.02085527625884598,
          0.005749387937574846,
          0.019912231444666473,
          0.01168708213453229,
          0.02090787899523583,
          0.010948060417941496,
          0.01604194050769403,
          0.000592354212098356,
          0.04300171329162494,
          0.030935926089743382,
          0.03275991228316277,
          0.006750782960377233,
          0.015407590606297705,
          0.015233514825208072,
          0.04125890532209242,
          0.02183662084876703,
          0.06394335617091063,
          0.002106152367437275,
          0.008957599840229924,
          0.013266688406367355,
          0.018259860110644066,
          0.0038702373673584756,
          0.026232017378675643,
          0.017256687908582924,
          0.005121342982453259,
          0.005322091905852533,
          0.017257940653384707,
          0.04630515085658815,
          0.07765453887734619,
          0.011502213387817872,
          0.003166032749595149,
          0.01211407599239056,
          0.019336175027774627,
          0.01167471162175615,
          0.031185321871809446,
          0.008510118965984526,
          0.0070868325465011095,
          0.01708613446066265,
          0.031240289203345428,
          0.013186471727393734,
          0.013854856133859172,
          0.021568343477287644,
          0.031922478569237134,
          0.006526718281107957,
          0.005922205655425228,
          0.0031534397168476724,
          0.035306578200076766,
          0.008884477713704486,
          0.0035136968255736756,
          0.02840820439738212,
          0.012521860569984278,
          0.046656531763659026,
          0.0034383479400282857,
          0.01885375214013474,
          0.014556889487170599,
          0.00139460961511495,
          0.008033867856957144,
          0.03346749474862609,
          0.03851986044408229,
          0.015098095098474484,
          0.007430336166500462,
          0.0048158963479209005,
          0.007270358732810678,
          0.0020459656817833904,
          0.006760403953561034,
          0.0039445107923971046,
          0.009558593500443857,
          0.07559877286977801,
          0.007772982478280954,
          0.007573898302818849,
          0.027151971447035517,
          0.0028799891022823765,
          0.019207999561760114,
          0.011152072799086143,
          0.009461518344994313,
          0.00939223818693291,
          0.01832077752548389,
          0.03984609796205041,
          0.0261534990542015,
          0.032612480023996415,
          0.02703991727105004,
          0.024744285798897203,
          0.03516334821127842,
          0.002047129864786945,
          0.00987979434542996,
          0.011440223495057467,
          0.010538515455952302,
          0.007530320731884199,
          0.02867190449193513,
          0.03909064578375909,
          0.03068651514103493,
          0.05816098729913621,
          0.002393244870741884,
          0.0011938443945871402,
          0.04653367346955006,
          0.02364335833515585,
          0.029417488217767573,
          0.004225971876157697,
          0.004285420470404144,
          0.015470591803781852,
          0.04484570449062886,
          0.038779924495444096,
          0.005690417682577942,
          0.014730765286541714,
          0.040666785164240604,
          0.012121197228016634,
          0.02212908767462507,
          0.0034017606750065266,
          0.0991646338745874,
          0.009887381470002232,
          0.013517024708256553,
          0.004712056568902168,
          0.02783891644676817,
          0.024388175388807,
          0.021040676268019753,
          0.03355161367368242,
          0.014195498348709257,
          0.005691949249705397,
          0.01674287495433191,
          0.04633940229542799,
          0.015032203279274792,
          0.061462864890664104,
          0.0011490562161714513,
          0.03544043734630331,
          0.07664019239551056,
          0.017192549513460942,
          0.05284833424645352,
          0.012732781772221924,
          0.01449532717502422,
          0.026728303946298326,
          0.0027139012990359257,
          0.0007770320202032943,
          0.018565292245710796,
          0.0019336136724285025,
          0.016064953379299363,
          0.0026660129142835887,
          0.003097869440992884
         ],
         "xaxis": "x",
         "yaxis": "y"
        }
       ],
       "layout": {
        "annotations": [
         {
          "showarrow": false,
          "text": "<span style=\"color:lightseagreen\">Observed Absolute Difference</span>",
          "x": 0.03190134760890329,
          "y": 0.055
         }
        ],
        "barmode": "relative",
        "font": {
         "family": "sans-serif"
        },
        "legend": {
         "tracegroupgap": 0
        },
        "shapes": [
         {
          "line": {
           "color": "lightseagreen"
          },
          "type": "line",
          "x0": 0.016790182952054367,
          "x1": 0.016790182952054367,
          "xref": "x",
          "y0": 0,
          "y1": 1,
          "yref": "y domain"
         }
        ],
        "template": {
         "data": {
          "bar": [
           {
            "error_x": {
             "color": "#2a3f5f"
            },
            "error_y": {
             "color": "#2a3f5f"
            },
            "marker": {
             "line": {
              "color": "#E5ECF6",
              "width": 0.5
             },
             "pattern": {
              "fillmode": "overlay",
              "size": 10,
              "solidity": 0.2
             }
            },
            "type": "bar"
           }
          ],
          "barpolar": [
           {
            "marker": {
             "line": {
              "color": "#E5ECF6",
              "width": 0.5
             },
             "pattern": {
              "fillmode": "overlay",
              "size": 10,
              "solidity": 0.2
             }
            },
            "type": "barpolar"
           }
          ],
          "carpet": [
           {
            "aaxis": {
             "endlinecolor": "#2a3f5f",
             "gridcolor": "white",
             "linecolor": "white",
             "minorgridcolor": "white",
             "startlinecolor": "#2a3f5f"
            },
            "baxis": {
             "endlinecolor": "#2a3f5f",
             "gridcolor": "white",
             "linecolor": "white",
             "minorgridcolor": "white",
             "startlinecolor": "#2a3f5f"
            },
            "type": "carpet"
           }
          ],
          "choropleth": [
           {
            "colorbar": {
             "outlinewidth": 0,
             "ticks": ""
            },
            "type": "choropleth"
           }
          ],
          "contour": [
           {
            "colorbar": {
             "outlinewidth": 0,
             "ticks": ""
            },
            "colorscale": [
             [
              0,
              "#0d0887"
             ],
             [
              0.1111111111111111,
              "#46039f"
             ],
             [
              0.2222222222222222,
              "#7201a8"
             ],
             [
              0.3333333333333333,
              "#9c179e"
             ],
             [
              0.4444444444444444,
              "#bd3786"
             ],
             [
              0.5555555555555556,
              "#d8576b"
             ],
             [
              0.6666666666666666,
              "#ed7953"
             ],
             [
              0.7777777777777778,
              "#fb9f3a"
             ],
             [
              0.8888888888888888,
              "#fdca26"
             ],
             [
              1,
              "#f0f921"
             ]
            ],
            "type": "contour"
           }
          ],
          "contourcarpet": [
           {
            "colorbar": {
             "outlinewidth": 0,
             "ticks": ""
            },
            "type": "contourcarpet"
           }
          ],
          "heatmap": [
           {
            "colorbar": {
             "outlinewidth": 0,
             "ticks": ""
            },
            "colorscale": [
             [
              0,
              "#0d0887"
             ],
             [
              0.1111111111111111,
              "#46039f"
             ],
             [
              0.2222222222222222,
              "#7201a8"
             ],
             [
              0.3333333333333333,
              "#9c179e"
             ],
             [
              0.4444444444444444,
              "#bd3786"
             ],
             [
              0.5555555555555556,
              "#d8576b"
             ],
             [
              0.6666666666666666,
              "#ed7953"
             ],
             [
              0.7777777777777778,
              "#fb9f3a"
             ],
             [
              0.8888888888888888,
              "#fdca26"
             ],
             [
              1,
              "#f0f921"
             ]
            ],
            "type": "heatmap"
           }
          ],
          "heatmapgl": [
           {
            "colorbar": {
             "outlinewidth": 0,
             "ticks": ""
            },
            "colorscale": [
             [
              0,
              "#0d0887"
             ],
             [
              0.1111111111111111,
              "#46039f"
             ],
             [
              0.2222222222222222,
              "#7201a8"
             ],
             [
              0.3333333333333333,
              "#9c179e"
             ],
             [
              0.4444444444444444,
              "#bd3786"
             ],
             [
              0.5555555555555556,
              "#d8576b"
             ],
             [
              0.6666666666666666,
              "#ed7953"
             ],
             [
              0.7777777777777778,
              "#fb9f3a"
             ],
             [
              0.8888888888888888,
              "#fdca26"
             ],
             [
              1,
              "#f0f921"
             ]
            ],
            "type": "heatmapgl"
           }
          ],
          "histogram": [
           {
            "marker": {
             "pattern": {
              "fillmode": "overlay",
              "size": 10,
              "solidity": 0.2
             }
            },
            "type": "histogram"
           }
          ],
          "histogram2d": [
           {
            "colorbar": {
             "outlinewidth": 0,
             "ticks": ""
            },
            "colorscale": [
             [
              0,
              "#0d0887"
             ],
             [
              0.1111111111111111,
              "#46039f"
             ],
             [
              0.2222222222222222,
              "#7201a8"
             ],
             [
              0.3333333333333333,
              "#9c179e"
             ],
             [
              0.4444444444444444,
              "#bd3786"
             ],
             [
              0.5555555555555556,
              "#d8576b"
             ],
             [
              0.6666666666666666,
              "#ed7953"
             ],
             [
              0.7777777777777778,
              "#fb9f3a"
             ],
             [
              0.8888888888888888,
              "#fdca26"
             ],
             [
              1,
              "#f0f921"
             ]
            ],
            "type": "histogram2d"
           }
          ],
          "histogram2dcontour": [
           {
            "colorbar": {
             "outlinewidth": 0,
             "ticks": ""
            },
            "colorscale": [
             [
              0,
              "#0d0887"
             ],
             [
              0.1111111111111111,
              "#46039f"
             ],
             [
              0.2222222222222222,
              "#7201a8"
             ],
             [
              0.3333333333333333,
              "#9c179e"
             ],
             [
              0.4444444444444444,
              "#bd3786"
             ],
             [
              0.5555555555555556,
              "#d8576b"
             ],
             [
              0.6666666666666666,
              "#ed7953"
             ],
             [
              0.7777777777777778,
              "#fb9f3a"
             ],
             [
              0.8888888888888888,
              "#fdca26"
             ],
             [
              1,
              "#f0f921"
             ]
            ],
            "type": "histogram2dcontour"
           }
          ],
          "mesh3d": [
           {
            "colorbar": {
             "outlinewidth": 0,
             "ticks": ""
            },
            "type": "mesh3d"
           }
          ],
          "parcoords": [
           {
            "line": {
             "colorbar": {
              "outlinewidth": 0,
              "ticks": ""
             }
            },
            "type": "parcoords"
           }
          ],
          "pie": [
           {
            "automargin": true,
            "type": "pie"
           }
          ],
          "scatter": [
           {
            "fillpattern": {
             "fillmode": "overlay",
             "size": 10,
             "solidity": 0.2
            },
            "type": "scatter"
           }
          ],
          "scatter3d": [
           {
            "line": {
             "colorbar": {
              "outlinewidth": 0,
              "ticks": ""
             }
            },
            "marker": {
             "colorbar": {
              "outlinewidth": 0,
              "ticks": ""
             }
            },
            "type": "scatter3d"
           }
          ],
          "scattercarpet": [
           {
            "marker": {
             "colorbar": {
              "outlinewidth": 0,
              "ticks": ""
             }
            },
            "type": "scattercarpet"
           }
          ],
          "scattergeo": [
           {
            "marker": {
             "colorbar": {
              "outlinewidth": 0,
              "ticks": ""
             }
            },
            "type": "scattergeo"
           }
          ],
          "scattergl": [
           {
            "marker": {
             "colorbar": {
              "outlinewidth": 0,
              "ticks": ""
             }
            },
            "type": "scattergl"
           }
          ],
          "scattermapbox": [
           {
            "marker": {
             "colorbar": {
              "outlinewidth": 0,
              "ticks": ""
             }
            },
            "type": "scattermapbox"
           }
          ],
          "scatterpolar": [
           {
            "marker": {
             "colorbar": {
              "outlinewidth": 0,
              "ticks": ""
             }
            },
            "type": "scatterpolar"
           }
          ],
          "scatterpolargl": [
           {
            "marker": {
             "colorbar": {
              "outlinewidth": 0,
              "ticks": ""
             }
            },
            "type": "scatterpolargl"
           }
          ],
          "scatterternary": [
           {
            "marker": {
             "colorbar": {
              "outlinewidth": 0,
              "ticks": ""
             }
            },
            "type": "scatterternary"
           }
          ],
          "surface": [
           {
            "colorbar": {
             "outlinewidth": 0,
             "ticks": ""
            },
            "colorscale": [
             [
              0,
              "#0d0887"
             ],
             [
              0.1111111111111111,
              "#46039f"
             ],
             [
              0.2222222222222222,
              "#7201a8"
             ],
             [
              0.3333333333333333,
              "#9c179e"
             ],
             [
              0.4444444444444444,
              "#bd3786"
             ],
             [
              0.5555555555555556,
              "#d8576b"
             ],
             [
              0.6666666666666666,
              "#ed7953"
             ],
             [
              0.7777777777777778,
              "#fb9f3a"
             ],
             [
              0.8888888888888888,
              "#fdca26"
             ],
             [
              1,
              "#f0f921"
             ]
            ],
            "type": "surface"
           }
          ],
          "table": [
           {
            "cells": {
             "fill": {
              "color": "#EBF0F8"
             },
             "line": {
              "color": "white"
             }
            },
            "header": {
             "fill": {
              "color": "#C8D4E3"
             },
             "line": {
              "color": "white"
             }
            },
            "type": "table"
           }
          ]
         },
         "layout": {
          "annotationdefaults": {
           "arrowcolor": "#2a3f5f",
           "arrowhead": 0,
           "arrowwidth": 1
          },
          "autotypenumbers": "strict",
          "coloraxis": {
           "colorbar": {
            "outlinewidth": 0,
            "ticks": ""
           }
          },
          "colorscale": {
           "diverging": [
            [
             0,
             "#8e0152"
            ],
            [
             0.1,
             "#c51b7d"
            ],
            [
             0.2,
             "#de77ae"
            ],
            [
             0.3,
             "#f1b6da"
            ],
            [
             0.4,
             "#fde0ef"
            ],
            [
             0.5,
             "#f7f7f7"
            ],
            [
             0.6,
             "#e6f5d0"
            ],
            [
             0.7,
             "#b8e186"
            ],
            [
             0.8,
             "#7fbc41"
            ],
            [
             0.9,
             "#4d9221"
            ],
            [
             1,
             "#276419"
            ]
           ],
           "sequential": [
            [
             0,
             "#0d0887"
            ],
            [
             0.1111111111111111,
             "#46039f"
            ],
            [
             0.2222222222222222,
             "#7201a8"
            ],
            [
             0.3333333333333333,
             "#9c179e"
            ],
            [
             0.4444444444444444,
             "#bd3786"
            ],
            [
             0.5555555555555556,
             "#d8576b"
            ],
            [
             0.6666666666666666,
             "#ed7953"
            ],
            [
             0.7777777777777778,
             "#fb9f3a"
            ],
            [
             0.8888888888888888,
             "#fdca26"
            ],
            [
             1,
             "#f0f921"
            ]
           ],
           "sequentialminus": [
            [
             0,
             "#0d0887"
            ],
            [
             0.1111111111111111,
             "#46039f"
            ],
            [
             0.2222222222222222,
             "#7201a8"
            ],
            [
             0.3333333333333333,
             "#9c179e"
            ],
            [
             0.4444444444444444,
             "#bd3786"
            ],
            [
             0.5555555555555556,
             "#d8576b"
            ],
            [
             0.6666666666666666,
             "#ed7953"
            ],
            [
             0.7777777777777778,
             "#fb9f3a"
            ],
            [
             0.8888888888888888,
             "#fdca26"
            ],
            [
             1,
             "#f0f921"
            ]
           ]
          },
          "colorway": [
           "#636efa",
           "#EF553B",
           "#00cc96",
           "#ab63fa",
           "#FFA15A",
           "#19d3f3",
           "#FF6692",
           "#B6E880",
           "#FF97FF",
           "#FECB52"
          ],
          "font": {
           "color": "#2a3f5f"
          },
          "geo": {
           "bgcolor": "white",
           "lakecolor": "white",
           "landcolor": "#E5ECF6",
           "showlakes": true,
           "showland": true,
           "subunitcolor": "white"
          },
          "hoverlabel": {
           "align": "left"
          },
          "hovermode": "closest",
          "mapbox": {
           "style": "light"
          },
          "paper_bgcolor": "white",
          "plot_bgcolor": "#E5ECF6",
          "polar": {
           "angularaxis": {
            "gridcolor": "white",
            "linecolor": "white",
            "ticks": ""
           },
           "bgcolor": "#E5ECF6",
           "radialaxis": {
            "gridcolor": "white",
            "linecolor": "white",
            "ticks": ""
           }
          },
          "scene": {
           "xaxis": {
            "backgroundcolor": "#E5ECF6",
            "gridcolor": "white",
            "gridwidth": 2,
            "linecolor": "white",
            "showbackground": true,
            "ticks": "",
            "zerolinecolor": "white"
           },
           "yaxis": {
            "backgroundcolor": "#E5ECF6",
            "gridcolor": "white",
            "gridwidth": 2,
            "linecolor": "white",
            "showbackground": true,
            "ticks": "",
            "zerolinecolor": "white"
           },
           "zaxis": {
            "backgroundcolor": "#E5ECF6",
            "gridcolor": "white",
            "gridwidth": 2,
            "linecolor": "white",
            "showbackground": true,
            "ticks": "",
            "zerolinecolor": "white"
           }
          },
          "shapedefaults": {
           "line": {
            "color": "#2a3f5f"
           }
          },
          "ternary": {
           "aaxis": {
            "gridcolor": "white",
            "linecolor": "white",
            "ticks": ""
           },
           "baxis": {
            "gridcolor": "white",
            "linecolor": "white",
            "ticks": ""
           },
           "bgcolor": "#E5ECF6",
           "caxis": {
            "gridcolor": "white",
            "linecolor": "white",
            "ticks": ""
           }
          },
          "title": {
           "x": 0.05
          },
          "xaxis": {
           "automargin": true,
           "gridcolor": "white",
           "linecolor": "white",
           "ticks": "",
           "title": {
            "standoff": 15
           },
           "zerolinecolor": "white",
           "zerolinewidth": 2
          },
          "yaxis": {
           "automargin": true,
           "gridcolor": "white",
           "linecolor": "white",
           "ticks": "",
           "title": {
            "standoff": 15
           },
           "zerolinecolor": "white",
           "zerolinewidth": 2
          }
         }
        },
        "title": {
         "text": "Empirical Distribution of the Absolute Difference"
        },
        "xaxis": {
         "anchor": "y",
         "domain": [
          0,
          1
         ],
         "range": [
          0,
          0.1091646338745874
         ],
         "title": {
          "text": "0"
         }
        },
        "yaxis": {
         "anchor": "x",
         "domain": [
          0,
          1
         ],
         "title": {
          "text": "probability"
         }
        }
       }
      },
      "text/html": [
       "<div>                            <div id=\"486b02ac-1f67-46b8-a9b9-e03720079661\" class=\"plotly-graph-div\" style=\"height:525px; width:100%;\"></div>            <script type=\"text/javascript\">                require([\"plotly\"], function(Plotly) {                    window.PLOTLYENV=window.PLOTLYENV || {};                                    if (document.getElementById(\"486b02ac-1f67-46b8-a9b9-e03720079661\")) {                    Plotly.newPlot(                        \"486b02ac-1f67-46b8-a9b9-e03720079661\",                        [{\"alignmentgroup\":\"True\",\"bingroup\":\"x\",\"histnorm\":\"probability\",\"hovertemplate\":\"0=%{x}<br>probability=%{y}<extra></extra>\",\"legendgroup\":\"\",\"marker\":{\"color\":\"pink\",\"pattern\":{\"shape\":\"\"}},\"name\":\"\",\"nbinsx\":50,\"offsetgroup\":\"\",\"orientation\":\"v\",\"showlegend\":false,\"x\":[0.0011312913480445719,0.038122829771146116,0.04679668083976685,0.009184612286201488,0.005994542230023714,0.030079754959564498,0.030340005613926024,0.002181463618845081,0.020212238233142665,0.011827838052080764,0.002403107801435378,0.03327997674083527,0.002242696692071111,0.04693234093706011,0.03087686462075212,0.008940850353363117,0.046961194817872864,0.019457931444491927,0.052055445033203696,0.045062090379297204,0.016877430678882477,0.03754683534455705,0.0706328619132246,0.03085688639933537,0.015731084373369786,0.039640737206979026,0.0012572287052883269,0.046154092099950694,0.013222940427191854,0.07237484243513181,0.0242293864733768,0.027476236902673867,0.009308324571468685,0.01178431656360368,0.0012495982790740046,0.07034146363968796,0.02029839556320645,0.031220906507660073,0.05723961058747218,0.020305187864327334,0.004781602210226166,0.035683253817331395,0.005446960948402246,0.0035949598592289744,0.0021699919457300876,0.019528760715664895,0.047585487092201006,0.016536981448031285,0.0025209980504150575,0.002304818098516792,0.045782319040839514,0.01224433798424629,0.02470334588724654,0.03598998093368655,0.002051830298523849,0.01996743647735222,0.01077870101477063,0.01486179129151699,0.014193128641668662,0.007217385644068597,0.038044429023643245,0.02619218178605398,0.029831699355863828,0.00046504912680322974,0.002266057357006468,0.017796829652492074,0.008255093108689993,0.01599605494169165,0.020860665742868933,0.01916892533230441,0.045095300112103165,0.012960265426868123,0.01077730012200906,0.010705727362747108,0.01654518318959497,0.03196545403475526,0.019907997571790292,0.06367312407444159,0.00806592808613038,0.010932893103512864,0.0042283599991010945,0.00371224271636561,0.032675702115967487,0.001799421263847023,0.017006301066497254,0.017598858221394065,0.012202276316971572,0.002637692047224305,0.01209969816042411,0.029062097004718734,0.012047873264037001,0.014328681004881494,0.03984038215021568,0.014520092071498736,0.0213961590127425,0.013833015157351691,0.04663288095308282,0.015489090038626196,0.01459233793179826,0.0008793624888074891,0.02987400859703382,0.015176903900380623,0.004596056595471132,0.006310645581913188,0.019533375166198574,0.0057970202117101355,0.005835238841571888,0.03239787067516964,0.05442545262711784,0.003047106184407511,0.013992775136726365,0.008163556119588966,0.02146645962615601,0.006107178935418567,0.0014628339633578902,0.015817141489322784,0.026850674598919877,0.0272508347625654,0.023388151871848728,0.03015871210467802,0.004094978709975106,0.010368033408888366,0.03070393256212367,0.006565397279404084,0.024184013360194823,0.022398988295058153,0.025643949065493943,0.017835694062330876,0.006505427932468444,0.02452881185232103,0.06550557063483498,0.023994023269907072,0.024609016898734404,0.003004504081458359,0.0032167346810335617,0.01355710028665802,0.022705685982162827,0.01267109087890339,0.019367893112780532,0.04863682109841838,0.0026170585703340077,0.030274072871895208,0.0008045037302132352,0.02081657282588667,0.026247343006098767,0.008497759220830847,6.29788206075732e-05,0.047746191944290195,0.005017809964589115,0.001760318780589798,0.02276390604692058,0.018766911876227144,0.012753003768821825,0.019203032436770573,0.02791916039422404,0.0003321292069443649,0.013617758361196941,0.023624211706358422,0.030540909443892206,0.03009097522010029,0.038970624559596434,0.09472866646380596,0.015753424227872292,0.013258299560839015,0.013476708376045088,0.02295279362333591,0.0373258650889422,0.0035302439497669758,0.004777187366630242,0.0073091944681249466,0.003901606978839456,0.03418918415341565,0.03713707392284382,0.04259965690322742,0.0012612504812111736,0.008057845242775308,0.016657421095750746,0.011191275319763161,0.027639023647084482,0.010731095438953897,0.013445034544138257,0.015361557882757615,0.005175112399715798,0.00028049982761690906,0.0405054855791569,0.026826631484157315,0.03185349221556555,0.017533461356052715,0.002039627103523234,0.023692734974569918,0.01334143406883026,0.038913157952377486,0.024646232216347874,0.007005641783994099,0.004217915964364827,0.009520861484600074,0.008624594603473423,0.001278028345531923,0.011270004856885119,0.04627557421683526,0.018228905048653488,0.019233388862192946,0.030553736234187334,0.025349267853672197,0.014457226211705976,0.001711597781251628,0.03661201759649646,0.009473937849352243,0.03867450947287199,0.030955332370968258,0.0466961715309373,0.006267327672980327,0.003231645534940819,0.0027718583899567495,0.03198481326101932,0.025300920420186057,0.0001526184369262662,0.004519088414888461,0.004924030696404458,0.028667666452939722,0.004550761404938486,0.010908337033223248,0.0008972508952721503,0.023423118888699412,0.011258224166222353,0.0026042240769628133,0.05760490302982002,0.02113691796935202,0.0401850845020949,0.010114205356335226,0.024436300256110433,0.004903645258196088,0.01115019570042497,0.0018116407900651277,0.0007098299024403953,0.001476715095610981,0.0066203793060491956,0.01015415231477168,0.016649932050555982,0.005080437017510597,0.036827298364571104,0.03661959841223483,0.022070282260396312,0.029938051448262004,0.002241756354072977,0.03289851602850247,0.002385751677480341,0.0032062158283424624,0.020142252723610587,0.007695320006861572,0.008962607597456596,0.05428441303016518,0.03440903933655248,0.038566802483113505,0.0015445552849917554,0.05796940298023423,0.02121503695998761,0.012062493067283797,0.015266120372133818,0.025110190893667728,0.05762627620198291,0.013902930053835472,0.02749715432291866,0.0180689770119693,0.05857141548657763,0.0021586517138435513,0.017799017238139814,0.03424480934557106,0.038952434251190104,0.009862277640670492,0.01655695674127955,0.01504593091501416,0.010989148387208991,0.04178818180791166,0.0619251546732299,0.04620844300606619,0.017942328480187397,0.037877869610454584,0.007805985419881312,0.011562019613340468,0.023111624190472857,0.0416275677108503,0.014316478251235054,0.0023018091627304837,0.029720644382881356,0.0025953648341987545,0.022498473528482554,0.009485461680953655,0.023138367378924718,0.0024926982694439825,0.025358215594198263,0.021459869270363696,0.01742428879894986,0.019875079720419242,0.03521308000234713,0.011531603712840677,0.011941381865336331,0.0017274851765177734,0.019582197476377905,0.012406359361969543,0.023759447866579686,0.006354509647014783,0.04897691096254975,0.001467159355838965,0.004455846965110477,0.001145637165401392,0.05137872502784202,0.003304572346816137,0.028942873479057996,0.005939487324070791,0.008083181354454516,0.004156202284481436,0.028021448235553748,0.008949341674916345,0.010152821096168885,0.02036993349750349,0.006487898459271668,0.004588582737459768,0.009605485358817778,0.04623183270356501,0.022493092682666194,0.0010946961873938843,0.0006396042535508073,0.03668738050661302,0.04436548815562158,0.013548771499088508,0.04603600029650312,0.013060063003836997,0.025683913802921232,0.014073807863280385,0.019314076379944645,0.008555243532635926,0.03857241689904145,0.061800969397429184,0.01004887079502026,0.04971063912032925,0.04760234857288026,0.00950993936207123,0.01272576344888865,0.011971809959040458,0.003991618851223566,0.027169245795288344,0.0103611568339671,0.00025375540201522107,0.021109759535648753,0.003975888046981901,0.014049265852940751,0.035243986207601385,0.002605138890806158,0.04554592787819689,0.0026608823640064116,0.03658270099645067,0.02168176719731396,0.024166635952078352,0.04626544222689266,0.005570461440175478,0.001240116902183952,0.02950673679153526,0.012284203509241642,0.042211671318230226,0.033914474300190456,0.019458524502357855,0.0021794741598127887,0.02600886209766662,0.0151591527951076,0.0008195452498855893,0.00200837094965145,0.006799248411308856,0.025547987753001045,0.04516440951320744,0.04206696023435841,0.020951107644802236,0.03695075104688783,0.0019039815786450198,0.01639174774301444,0.01322654825536329,0.008165000415708334,0.00797666829487631,0.03979856821678096,0.02479938816692584,0.044171061113468024,0.025798926887542373,0.04249846001303803,0.004339847121461626,0.0058875741401337445,0.007762735701485335,0.003350319490369791,0.01143076487149397,0.0321086301058523,0.0016289875436673595,0.026467474719006012,0.019225871994998034,0.02645335192233811,0.009659671498409295,0.011127291261856076,0.015307252253313197,0.013414461269551481,0.04516564558002689,0.028182436429345037,0.022953112219647687,0.05349480416931829,0.056046333552795535,0.025951810044436474,0.0020256887043866856,0.02180989685932677,0.02619441870564332,0.03196487532266101,0.00760821633872788,0.008588545142639514,0.017018521558969213,0.026073443599872848,0.001529856948498165,0.04091964931212888,0.06124366967321959,0.015963105737008765,0.03861441723114256,0.03846930215071176,0.02481350555617301,0.0144405656575195,0.012482368455250525,0.024835295353988318,0.037169654815607966,0.047382512272953536,0.022448596492184558,0.02930040245549248,0.011154768044127517,0.04063126684964047,0.012171302684982677,0.024936994527446243,0.022971681635681418,0.03439671051081905,0.0028161991490653904,0.004978812982742942,0.0348489606124015,0.03936750115008347,0.006420898099739225,0.02526003106614505,0.0039604254383274196,0.02846612573061935,0.024195740264035148,0.00576226519554357,0.00411566500703664,0.05241736238167716,0.02592714237954541,0.027483287455228433,0.01799685956630359,0.03395430287408907,0.005723658247643759,0.0011168893739542662,0.00383619584641548,0.011935752465642713,0.010479907118226661,0.03223595349895725,0.022077513929537163,0.023256131710280847,0.060963051954470826,0.0013111915039208943,0.018790244276763235,0.027647108336991355,0.050231597084031465,0.046604910649741815,0.005769117434110793,0.013349247105630346,0.02710782178892679,0.015790599948548922,0.008963385992910133,0.03821622979650341,0.006915649855643857,0.012054750016263327,0.014190974077401886,0.028663120209176163,0.023530453090726433,0.05728189178986087,0.05250133442572025,0.0037311100806847186,0.003456544497065117,0.03693745477687349,0.06788378239870896,0.019443293935464734,0.03169178667516137,0.013621918780077347,0.010852379752811725,0.024998950157855027,0.011969280864553178,0.012605438742695041,0.013516202186955706,0.017032074730157443,0.024329494235361793,0.023797022423337033,0.015820026813016863,0.006711567262953633,0.03830017972733801,0.011809060058066145,0.0014702228657974548,0.028844826256588574,0.03766477525565015,0.022946467470482124,0.041727353909269405,0.002778852145004951,0.009750797330350669,0.030091611393765372,0.029518886817628043,0.05304348214826038,0.018344699874248693,0.04976714481256628,0.014217661247219793,0.01813943624795511,0.021903026545879056,0.008246217424134339,0.0014879140691773651,0.058300947032074224,0.016514742132058058,0.06123081556186316,0.0007752315168708668,0.015822441500883744,0.003700951119393947,0.04521740967791876,0.015890097526931712,0.03502626938188824,0.0036988011497020024,0.05023564053546492,0.021183705717404466,0.01989765847505376,0.005000639308346599,0.006212798659452012,0.011173440348445807,0.030932684962833745,0.005330539788849675,0.01255813819259577,0.03945855237554585,0.03797638972701023,0.011052965391224245,0.019013399189122926,0.018152648218633938,0.0818991716373969,0.008198901190968666,0.007090404065785427,0.029729651834009885,0.02985739813936683,0.012611509452365555,0.020142724817541535,0.010854069172973158,0.009962256779941558,0.0010445072294338331,0.0029174908625355656,0.008740381166377542,0.04401292358978648,0.028125351841542745,0.02827913896150902,0.032288983734173105,0.03049454355036052,0.00015874608498434029,0.022069258852356888,0.023957783778314923,0.012752409655356178,0.014261022721444916,0.034568537140621025,0.021998809707185152,0.007886361454310098,0.03778599890408518,0.023715107902646526,0.0474433271061504,0.032380291915701354,0.017951446321526343,0.06210288252988372,0.022279134836419967,0.026816311187523145,0.016756959143166106,0.01013833499631478,0.010572577916379444,0.04330006783583107,0.007478596384409952,0.029389629766537584,0.03873295877931904,0.03286204866490472,0.017235223028229663,0.032566359554193736,0.017313580365043713,0.005123315434257925,0.061796659485548244,0.009785557260446165,0.06211434381029979,0.016552331671873866,0.021619348833321617,0.014490052311681434,0.004531037036849095,0.03847447188984343,0.006043506364052931,0.026682034743542915,0.009248939077518892,0.016285166805930507,0.04608666283740637,0.02989395154793084,0.02153184560888588,0.023992433341435304,0.04583280414584667,0.006544913106473094,0.04312981613196465,0.0413422096148951,0.03406219073265626,0.0268846619405555,0.02822367329233466,0.004844330801649588,0.0006249911576917677,0.01538040812359287,0.001693720607306659,0.016836589858660767,0.01717729794987599,0.02179771242017836,0.009726021752737624,0.01995834591324208,0.012605539173618174,0.05678389230515313,0.03706537626496764,0.0226575819021001,0.007985772867473484,0.0026848257854025226,0.0036980985176232606,0.016384669582228284,0.0037779513590143754,0.021403626011720522,0.02408818432876525,0.013755993060671878,0.02896130941074493,0.002703877097650631,0.03766323849722597,0.019538975526746882,0.014486795560855081,0.015635077227727612,0.02424017423087199,0.015362345722974124,0.06293842625877732,0.05647267288016411,0.0019498988013103569,0.007506998974098011,0.024794860480025882,0.02781848788102992,0.01636759159289325,0.029171906159917493,0.021689753421331726,0.029482342308844722,0.0006848161454480195,0.022445416868833612,0.0018685471682462484,0.0010580009472591634,0.0007149920380157271,0.0516396527943781,0.008412658522239491,0.018408127356233872,0.023468301828255544,0.021515949772871856,0.008806203496511955,0.018897495198721526,0.012603391613502102,0.006383099658267888,0.017138882978584014,0.06423016736282317,0.009290409813096479,0.04921129278957115,0.003732235276561524,0.020888084166481802,0.03480244821371126,0.0012283736068936513,0.07116960039062126,0.022083602173253225,0.005479411189597716,0.00972352277235411,0.009879146842241227,0.02798622329885292,0.023248606505678504,0.009888944030240432,0.017437590305482975,0.00202427528777549,0.02829362550287462,0.017147716068673824,0.01430499741747382,0.0038206937292232235,0.027326873140507746,0.022652054848738,0.03704037446665864,0.012671499214394588,0.022683792221090404,0.028161708225263204,0.003967761456323049,0.03600848154339076,0.011006275400802568,0.0030878230348962976,0.01072252806937335,0.0016828452023393004,0.020769396774306892,0.016511827316595284,0.009207247222968395,0.07297115658799946,0.01699221665344708,0.04485099076870003,0.030761247442459116,0.06401668855809428,0.018372944604586827,0.013328913192449443,0.03728775648109417,0.013637083079861112,0.008273572355192216,0.02533172082936397,0.03144203086222652,0.00270868744687347,0.0017285322827755856,0.019540860048569808,0.01200720983933179,0.019436816382090383,0.05600105352154128,0.0079588810344694,0.025097959755522314,0.0456243533979005,0.040430625202024895,0.006860172246225704,0.023078686277423377,0.033685120549243774,0.002674449813020785,0.00535100386242493,0.012630574770463476,0.008845327192067876,0.04007159492607115,0.04347043475715551,0.046281058019745136,0.0069893442099759895,0.019503524386910942,0.003702674241498616,0.04584631053902499,0.03619179509846393,0.03270271782332046,0.0076263316838529605,0.010977112723185467,0.017706462397931833,0.025801365684740896,0.046805664940894776,0.021268711728394063,0.0018693838123668982,0.02318660970329256,0.03699495829487576,0.02835124111726295,0.00841820520677139,0.013088442885849094,0.008096752269931784,0.03888010238844786,0.013828256442500741,0.016215481291979028,0.02024835476147413,0.006051285457298383,0.01269446596548296,0.0134227035236959,0.04250525106097258,0.051571823575503606,0.020032726287494973,0.031115737920617947,0.018892413172292954,0.0013077907067127192,0.014860172032155061,0.005120159405024527,0.02349499600794569,0.0036750379484941087,0.035566896456709185,0.004784664428143626,0.0013819835736355035,0.03926727473505964,0.012096004933526139,0.0031867871669024606,0.004894150505275641,0.0064881801110246995,0.019733507025217367,0.014747301321916706,0.003690274225627843,0.004087231483513976,0.00177806819474835,0.0239604696345721,0.006329575728300063,0.05283774322676671,0.027579040648671782,0.013639438467824672,0.0001669176894109059,0.005178458582276169,0.0049083158601940235,0.004033288415262848,0.032552694890014666,0.007532208425845344,0.0027620306037590137,0.01044534199365832,0.02523670948301371,0.028569615904564305,0.0046144267432657315,0.0163961322151418,0.016280055384827796,0.029651967535249457,0.006762734462517517,0.0137119433636409,0.005898111473102374,0.01673003900982195,0.03086105988497123,0.014886328763571877,0.019597020501328388,0.03813838139314174,0.003670452673834923,0.027349083883385972,0.008825400905345337,0.012010654937834708,0.006554304593126892,0.017492929612909824,0.05121386207170964,0.01405587525472074,0.013699835948387307,0.030694669140121755,0.008374588182618159,0.031584544940190695,0.042038146396668696,0.03066374429210772,0.02275614121329561,0.004804306229411859,0.021790705651028364,0.017348754677878442,0.01751780724722407,0.02705541772517772,0.027806902290035462,0.007017744824612704,0.0039072014157861545,0.0115667961442677,0.019079322751524685,0.04883474856823866,0.03274001113095237,0.0032428512076563276,0.041199661572421054,0.0306531816051131,0.051927471469162545,0.02965918484522556,0.012930207784460857,0.002303099595238667,0.010941443482805124,0.03069338086915141,0.011742843377265832,0.03015530194048388,0.010868197691079162,0.008342405709786171,0.05240047050098173,0.05679048879770676,0.026743063569254044,0.0028231389795904116,0.05033358848154945,0.03169030131299144,0.015282543922283676,0.016877816638074417,0.005721347443165659,0.019185001923451184,0.02114381556088063,0.006032836253450635,0.01756679257153826,0.01650746605193476,0.005267177607723772,0.009096198434808689,0.012747650222271645,0.01655467550949774,0.025027987507935667,0.013891648827301761,0.017985333922439728,0.01595567692775135,0.008521026504886953,0.02085527625884598,0.005749387937574846,0.019912231444666473,0.01168708213453229,0.02090787899523583,0.010948060417941496,0.01604194050769403,0.000592354212098356,0.04300171329162494,0.030935926089743382,0.03275991228316277,0.006750782960377233,0.015407590606297705,0.015233514825208072,0.04125890532209242,0.02183662084876703,0.06394335617091063,0.002106152367437275,0.008957599840229924,0.013266688406367355,0.018259860110644066,0.0038702373673584756,0.026232017378675643,0.017256687908582924,0.005121342982453259,0.005322091905852533,0.017257940653384707,0.04630515085658815,0.07765453887734619,0.011502213387817872,0.003166032749595149,0.01211407599239056,0.019336175027774627,0.01167471162175615,0.031185321871809446,0.008510118965984526,0.0070868325465011095,0.01708613446066265,0.031240289203345428,0.013186471727393734,0.013854856133859172,0.021568343477287644,0.031922478569237134,0.006526718281107957,0.005922205655425228,0.0031534397168476724,0.035306578200076766,0.008884477713704486,0.0035136968255736756,0.02840820439738212,0.012521860569984278,0.046656531763659026,0.0034383479400282857,0.01885375214013474,0.014556889487170599,0.00139460961511495,0.008033867856957144,0.03346749474862609,0.03851986044408229,0.015098095098474484,0.007430336166500462,0.0048158963479209005,0.007270358732810678,0.0020459656817833904,0.006760403953561034,0.0039445107923971046,0.009558593500443857,0.07559877286977801,0.007772982478280954,0.007573898302818849,0.027151971447035517,0.0028799891022823765,0.019207999561760114,0.011152072799086143,0.009461518344994313,0.00939223818693291,0.01832077752548389,0.03984609796205041,0.0261534990542015,0.032612480023996415,0.02703991727105004,0.024744285798897203,0.03516334821127842,0.002047129864786945,0.00987979434542996,0.011440223495057467,0.010538515455952302,0.007530320731884199,0.02867190449193513,0.03909064578375909,0.03068651514103493,0.05816098729913621,0.002393244870741884,0.0011938443945871402,0.04653367346955006,0.02364335833515585,0.029417488217767573,0.004225971876157697,0.004285420470404144,0.015470591803781852,0.04484570449062886,0.038779924495444096,0.005690417682577942,0.014730765286541714,0.040666785164240604,0.012121197228016634,0.02212908767462507,0.0034017606750065266,0.0991646338745874,0.009887381470002232,0.013517024708256553,0.004712056568902168,0.02783891644676817,0.024388175388807,0.021040676268019753,0.03355161367368242,0.014195498348709257,0.005691949249705397,0.01674287495433191,0.04633940229542799,0.015032203279274792,0.061462864890664104,0.0011490562161714513,0.03544043734630331,0.07664019239551056,0.017192549513460942,0.05284833424645352,0.012732781772221924,0.01449532717502422,0.026728303946298326,0.0027139012990359257,0.0007770320202032943,0.018565292245710796,0.0019336136724285025,0.016064953379299363,0.0026660129142835887,0.003097869440992884],\"xaxis\":\"x\",\"yaxis\":\"y\",\"type\":\"histogram\"}],                        {\"template\":{\"data\":{\"histogram2dcontour\":[{\"type\":\"histogram2dcontour\",\"colorbar\":{\"outlinewidth\":0,\"ticks\":\"\"},\"colorscale\":[[0.0,\"#0d0887\"],[0.1111111111111111,\"#46039f\"],[0.2222222222222222,\"#7201a8\"],[0.3333333333333333,\"#9c179e\"],[0.4444444444444444,\"#bd3786\"],[0.5555555555555556,\"#d8576b\"],[0.6666666666666666,\"#ed7953\"],[0.7777777777777778,\"#fb9f3a\"],[0.8888888888888888,\"#fdca26\"],[1.0,\"#f0f921\"]]}],\"choropleth\":[{\"type\":\"choropleth\",\"colorbar\":{\"outlinewidth\":0,\"ticks\":\"\"}}],\"histogram2d\":[{\"type\":\"histogram2d\",\"colorbar\":{\"outlinewidth\":0,\"ticks\":\"\"},\"colorscale\":[[0.0,\"#0d0887\"],[0.1111111111111111,\"#46039f\"],[0.2222222222222222,\"#7201a8\"],[0.3333333333333333,\"#9c179e\"],[0.4444444444444444,\"#bd3786\"],[0.5555555555555556,\"#d8576b\"],[0.6666666666666666,\"#ed7953\"],[0.7777777777777778,\"#fb9f3a\"],[0.8888888888888888,\"#fdca26\"],[1.0,\"#f0f921\"]]}],\"heatmap\":[{\"type\":\"heatmap\",\"colorbar\":{\"outlinewidth\":0,\"ticks\":\"\"},\"colorscale\":[[0.0,\"#0d0887\"],[0.1111111111111111,\"#46039f\"],[0.2222222222222222,\"#7201a8\"],[0.3333333333333333,\"#9c179e\"],[0.4444444444444444,\"#bd3786\"],[0.5555555555555556,\"#d8576b\"],[0.6666666666666666,\"#ed7953\"],[0.7777777777777778,\"#fb9f3a\"],[0.8888888888888888,\"#fdca26\"],[1.0,\"#f0f921\"]]}],\"heatmapgl\":[{\"type\":\"heatmapgl\",\"colorbar\":{\"outlinewidth\":0,\"ticks\":\"\"},\"colorscale\":[[0.0,\"#0d0887\"],[0.1111111111111111,\"#46039f\"],[0.2222222222222222,\"#7201a8\"],[0.3333333333333333,\"#9c179e\"],[0.4444444444444444,\"#bd3786\"],[0.5555555555555556,\"#d8576b\"],[0.6666666666666666,\"#ed7953\"],[0.7777777777777778,\"#fb9f3a\"],[0.8888888888888888,\"#fdca26\"],[1.0,\"#f0f921\"]]}],\"contourcarpet\":[{\"type\":\"contourcarpet\",\"colorbar\":{\"outlinewidth\":0,\"ticks\":\"\"}}],\"contour\":[{\"type\":\"contour\",\"colorbar\":{\"outlinewidth\":0,\"ticks\":\"\"},\"colorscale\":[[0.0,\"#0d0887\"],[0.1111111111111111,\"#46039f\"],[0.2222222222222222,\"#7201a8\"],[0.3333333333333333,\"#9c179e\"],[0.4444444444444444,\"#bd3786\"],[0.5555555555555556,\"#d8576b\"],[0.6666666666666666,\"#ed7953\"],[0.7777777777777778,\"#fb9f3a\"],[0.8888888888888888,\"#fdca26\"],[1.0,\"#f0f921\"]]}],\"surface\":[{\"type\":\"surface\",\"colorbar\":{\"outlinewidth\":0,\"ticks\":\"\"},\"colorscale\":[[0.0,\"#0d0887\"],[0.1111111111111111,\"#46039f\"],[0.2222222222222222,\"#7201a8\"],[0.3333333333333333,\"#9c179e\"],[0.4444444444444444,\"#bd3786\"],[0.5555555555555556,\"#d8576b\"],[0.6666666666666666,\"#ed7953\"],[0.7777777777777778,\"#fb9f3a\"],[0.8888888888888888,\"#fdca26\"],[1.0,\"#f0f921\"]]}],\"mesh3d\":[{\"type\":\"mesh3d\",\"colorbar\":{\"outlinewidth\":0,\"ticks\":\"\"}}],\"scatter\":[{\"fillpattern\":{\"fillmode\":\"overlay\",\"size\":10,\"solidity\":0.2},\"type\":\"scatter\"}],\"parcoords\":[{\"type\":\"parcoords\",\"line\":{\"colorbar\":{\"outlinewidth\":0,\"ticks\":\"\"}}}],\"scatterpolargl\":[{\"type\":\"scatterpolargl\",\"marker\":{\"colorbar\":{\"outlinewidth\":0,\"ticks\":\"\"}}}],\"bar\":[{\"error_x\":{\"color\":\"#2a3f5f\"},\"error_y\":{\"color\":\"#2a3f5f\"},\"marker\":{\"line\":{\"color\":\"#E5ECF6\",\"width\":0.5},\"pattern\":{\"fillmode\":\"overlay\",\"size\":10,\"solidity\":0.2}},\"type\":\"bar\"}],\"scattergeo\":[{\"type\":\"scattergeo\",\"marker\":{\"colorbar\":{\"outlinewidth\":0,\"ticks\":\"\"}}}],\"scatterpolar\":[{\"type\":\"scatterpolar\",\"marker\":{\"colorbar\":{\"outlinewidth\":0,\"ticks\":\"\"}}}],\"histogram\":[{\"marker\":{\"pattern\":{\"fillmode\":\"overlay\",\"size\":10,\"solidity\":0.2}},\"type\":\"histogram\"}],\"scattergl\":[{\"type\":\"scattergl\",\"marker\":{\"colorbar\":{\"outlinewidth\":0,\"ticks\":\"\"}}}],\"scatter3d\":[{\"type\":\"scatter3d\",\"line\":{\"colorbar\":{\"outlinewidth\":0,\"ticks\":\"\"}},\"marker\":{\"colorbar\":{\"outlinewidth\":0,\"ticks\":\"\"}}}],\"scattermapbox\":[{\"type\":\"scattermapbox\",\"marker\":{\"colorbar\":{\"outlinewidth\":0,\"ticks\":\"\"}}}],\"scatterternary\":[{\"type\":\"scatterternary\",\"marker\":{\"colorbar\":{\"outlinewidth\":0,\"ticks\":\"\"}}}],\"scattercarpet\":[{\"type\":\"scattercarpet\",\"marker\":{\"colorbar\":{\"outlinewidth\":0,\"ticks\":\"\"}}}],\"carpet\":[{\"aaxis\":{\"endlinecolor\":\"#2a3f5f\",\"gridcolor\":\"white\",\"linecolor\":\"white\",\"minorgridcolor\":\"white\",\"startlinecolor\":\"#2a3f5f\"},\"baxis\":{\"endlinecolor\":\"#2a3f5f\",\"gridcolor\":\"white\",\"linecolor\":\"white\",\"minorgridcolor\":\"white\",\"startlinecolor\":\"#2a3f5f\"},\"type\":\"carpet\"}],\"table\":[{\"cells\":{\"fill\":{\"color\":\"#EBF0F8\"},\"line\":{\"color\":\"white\"}},\"header\":{\"fill\":{\"color\":\"#C8D4E3\"},\"line\":{\"color\":\"white\"}},\"type\":\"table\"}],\"barpolar\":[{\"marker\":{\"line\":{\"color\":\"#E5ECF6\",\"width\":0.5},\"pattern\":{\"fillmode\":\"overlay\",\"size\":10,\"solidity\":0.2}},\"type\":\"barpolar\"}],\"pie\":[{\"automargin\":true,\"type\":\"pie\"}]},\"layout\":{\"autotypenumbers\":\"strict\",\"colorway\":[\"#636efa\",\"#EF553B\",\"#00cc96\",\"#ab63fa\",\"#FFA15A\",\"#19d3f3\",\"#FF6692\",\"#B6E880\",\"#FF97FF\",\"#FECB52\"],\"font\":{\"color\":\"#2a3f5f\"},\"hovermode\":\"closest\",\"hoverlabel\":{\"align\":\"left\"},\"paper_bgcolor\":\"white\",\"plot_bgcolor\":\"#E5ECF6\",\"polar\":{\"bgcolor\":\"#E5ECF6\",\"angularaxis\":{\"gridcolor\":\"white\",\"linecolor\":\"white\",\"ticks\":\"\"},\"radialaxis\":{\"gridcolor\":\"white\",\"linecolor\":\"white\",\"ticks\":\"\"}},\"ternary\":{\"bgcolor\":\"#E5ECF6\",\"aaxis\":{\"gridcolor\":\"white\",\"linecolor\":\"white\",\"ticks\":\"\"},\"baxis\":{\"gridcolor\":\"white\",\"linecolor\":\"white\",\"ticks\":\"\"},\"caxis\":{\"gridcolor\":\"white\",\"linecolor\":\"white\",\"ticks\":\"\"}},\"coloraxis\":{\"colorbar\":{\"outlinewidth\":0,\"ticks\":\"\"}},\"colorscale\":{\"sequential\":[[0.0,\"#0d0887\"],[0.1111111111111111,\"#46039f\"],[0.2222222222222222,\"#7201a8\"],[0.3333333333333333,\"#9c179e\"],[0.4444444444444444,\"#bd3786\"],[0.5555555555555556,\"#d8576b\"],[0.6666666666666666,\"#ed7953\"],[0.7777777777777778,\"#fb9f3a\"],[0.8888888888888888,\"#fdca26\"],[1.0,\"#f0f921\"]],\"sequentialminus\":[[0.0,\"#0d0887\"],[0.1111111111111111,\"#46039f\"],[0.2222222222222222,\"#7201a8\"],[0.3333333333333333,\"#9c179e\"],[0.4444444444444444,\"#bd3786\"],[0.5555555555555556,\"#d8576b\"],[0.6666666666666666,\"#ed7953\"],[0.7777777777777778,\"#fb9f3a\"],[0.8888888888888888,\"#fdca26\"],[1.0,\"#f0f921\"]],\"diverging\":[[0,\"#8e0152\"],[0.1,\"#c51b7d\"],[0.2,\"#de77ae\"],[0.3,\"#f1b6da\"],[0.4,\"#fde0ef\"],[0.5,\"#f7f7f7\"],[0.6,\"#e6f5d0\"],[0.7,\"#b8e186\"],[0.8,\"#7fbc41\"],[0.9,\"#4d9221\"],[1,\"#276419\"]]},\"xaxis\":{\"gridcolor\":\"white\",\"linecolor\":\"white\",\"ticks\":\"\",\"title\":{\"standoff\":15},\"zerolinecolor\":\"white\",\"automargin\":true,\"zerolinewidth\":2},\"yaxis\":{\"gridcolor\":\"white\",\"linecolor\":\"white\",\"ticks\":\"\",\"title\":{\"standoff\":15},\"zerolinecolor\":\"white\",\"automargin\":true,\"zerolinewidth\":2},\"scene\":{\"xaxis\":{\"backgroundcolor\":\"#E5ECF6\",\"gridcolor\":\"white\",\"linecolor\":\"white\",\"showbackground\":true,\"ticks\":\"\",\"zerolinecolor\":\"white\",\"gridwidth\":2},\"yaxis\":{\"backgroundcolor\":\"#E5ECF6\",\"gridcolor\":\"white\",\"linecolor\":\"white\",\"showbackground\":true,\"ticks\":\"\",\"zerolinecolor\":\"white\",\"gridwidth\":2},\"zaxis\":{\"backgroundcolor\":\"#E5ECF6\",\"gridcolor\":\"white\",\"linecolor\":\"white\",\"showbackground\":true,\"ticks\":\"\",\"zerolinecolor\":\"white\",\"gridwidth\":2}},\"shapedefaults\":{\"line\":{\"color\":\"#2a3f5f\"}},\"annotationdefaults\":{\"arrowcolor\":\"#2a3f5f\",\"arrowhead\":0,\"arrowwidth\":1},\"geo\":{\"bgcolor\":\"white\",\"landcolor\":\"#E5ECF6\",\"subunitcolor\":\"white\",\"showland\":true,\"showlakes\":true,\"lakecolor\":\"white\"},\"title\":{\"x\":0.05},\"mapbox\":{\"style\":\"light\"}}},\"xaxis\":{\"anchor\":\"y\",\"domain\":[0.0,1.0],\"title\":{\"text\":\"0\"},\"range\":[0,0.1091646338745874]},\"yaxis\":{\"anchor\":\"x\",\"domain\":[0.0,1.0],\"title\":{\"text\":\"probability\"}},\"legend\":{\"tracegroupgap\":0},\"title\":{\"text\":\"Empirical Distribution of the Absolute Difference\"},\"barmode\":\"relative\",\"shapes\":[{\"line\":{\"color\":\"lightseagreen\"},\"type\":\"line\",\"x0\":0.016790182952054367,\"x1\":0.016790182952054367,\"xref\":\"x\",\"y0\":0,\"y1\":1,\"yref\":\"y domain\"}],\"annotations\":[{\"showarrow\":false,\"text\":\"<span style=\\\"color:lightseagreen\\\">Observed Absolute Difference</span>\",\"x\":0.03190134760890329,\"y\":0.055}],\"font\":{\"family\":\"sans-serif\"}},                        {\"responsive\": true}                    ).then(function(){\n",
       "                            \n",
       "var gd = document.getElementById('486b02ac-1f67-46b8-a9b9-e03720079661');\n",
       "var x = new MutationObserver(function (mutations, observer) {{\n",
       "        var display = window.getComputedStyle(gd).display;\n",
       "        if (!display || display === 'none') {{\n",
       "            console.log([gd, 'removed!']);\n",
       "            Plotly.purge(gd);\n",
       "            observer.disconnect();\n",
       "        }}\n",
       "}});\n",
       "\n",
       "// Listen for the removal of the full notebook cells\n",
       "var notebookContainer = gd.closest('#notebook-container');\n",
       "if (notebookContainer) {{\n",
       "    x.observe(notebookContainer, {childList: true});\n",
       "}}\n",
       "\n",
       "// Listen for the clearing of the current output cell\n",
       "var outputEl = gd.closest('.output');\n",
       "if (outputEl) {{\n",
       "    x.observe(outputEl, {childList: true});\n",
       "}}\n",
       "\n",
       "                        })                };                });            </script>        </div>"
      ]
     },
     "metadata": {},
     "output_type": "display_data"
    }
   ],
   "source": [
    "fig = px.histogram(pd.DataFrame(diffs), x = 0, nbins = 50, histnorm = 'probability', \n",
    "                   title = 'Empirical Distribution of the Absolute Difference')\n",
    "\n",
    "fig.add_vline(x = obs_diff, line_color = 'lightseagreen')\n",
    "fig.add_annotation(text = f'<span style=\"color:lightseagreen\">Observed Absolute Difference</span>',\n",
    "                   x = 1.9 * obs_diff, showarrow = False, y = 0.055)\n",
    "\n",
    "fig.update_layout(xaxis_range = [0, np.max(diffs) + 0.01])\n",
    "fig.update_layout(font_family = \"sans-serif\")\n",
    "fig.update_traces(marker_color = 'pink')\n",
    "\n",
    "fig.write_html('abs diff.html', include_plotlyjs = 'cdn')\n",
    "fig.show()"
   ]
  },
  {
   "cell_type": "code",
   "execution_count": 23,
   "metadata": {},
   "outputs": [
    {
     "data": {
      "text/plain": [
       "0.508"
      ]
     },
     "execution_count": 23,
     "metadata": {},
     "output_type": "execute_result"
    }
   ],
   "source": [
    "p_val = np.mean(np.array(diffs) > obs_diff)\n",
    "p_val"
   ]
  },
  {
   "cell_type": "markdown",
   "metadata": {},
   "source": [
    "Therefore, we fail to reject our null hypothesis that the final model is fair. It is most likely, based on the data and tests, that our final model does not find a distinction when grouping based off the landlocked status of the state in which the power outage occurred. "
   ]
  }
 ],
 "metadata": {
  "kernelspec": {
   "display_name": "Python 3 (ipykernel)",
   "language": "python",
   "name": "python3"
  },
  "language_info": {
   "codemirror_mode": {
    "name": "ipython",
    "version": 3
   },
   "file_extension": ".py",
   "mimetype": "text/x-python",
   "name": "python",
   "nbconvert_exporter": "python",
   "pygments_lexer": "ipython3",
   "version": "3.8.16"
  }
 },
 "nbformat": 4,
 "nbformat_minor": 2
}
